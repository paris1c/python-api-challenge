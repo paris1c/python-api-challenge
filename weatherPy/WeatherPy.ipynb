{
 "cells": [
  {
   "cell_type": "markdown",
   "metadata": {},
   "source": [
    "# WeatherPy\n",
    "----\n",
    "\n",
    "#### Note\n",
    "* Instructions have been included for each segment. You do not have to follow them exactly, but they are included to help you think through the steps."
   ]
  },
  {
   "cell_type": "code",
   "execution_count": 1,
   "metadata": {
    "scrolled": true
   },
   "outputs": [
    {
     "name": "stdout",
     "output_type": "stream",
     "text": [
      "f1896ef9774eec1e5c2ba62805c4b461\n"
     ]
    }
   ],
   "source": [
    "# Dependencies and Setup\n",
    "import json\n",
    "import pprint\n",
    "import matplotlib.pyplot as plt\n",
    "import pandas as pd\n",
    "import numpy as np\n",
    "import requests\n",
    "import time\n",
    "from scipy.stats import linregress\n",
    "from sklearn.linear_model import LinearRegression\n",
    "\n",
    "# Import API key\n",
    "from api_keys import weather_api_key\n",
    "#print(weather_api_key)\n",
    "api_key = weather_api_key\n",
    "\n",
    "print(api_key)\n",
    "\n",
    "# Incorporated citipy to determine city based on latitude and longitude\n",
    "from citipy import citipy\n",
    "\n",
    "# Output File (CSV)\n",
    "output_data_file = \".../output_data/cities.csv\"\n",
    "\n",
    "# Range of latitudes and longitudes\n",
    "lat_range = (-90, 90)\n",
    "lng_range = (-180, 180)"
   ]
  },
  {
   "cell_type": "markdown",
   "metadata": {},
   "source": [
    "## Generate Cities List"
   ]
  },
  {
   "cell_type": "code",
   "execution_count": 2,
   "metadata": {},
   "outputs": [
    {
     "data": {
      "text/plain": [
       "639"
      ]
     },
     "execution_count": 2,
     "metadata": {},
     "output_type": "execute_result"
    }
   ],
   "source": [
    "# List for holding lat_lngs and cities\n",
    "lat_lngs = []\n",
    "cities = []\n",
    "\n",
    "# Create a set of random lat and lng combinations\n",
    "lats = np.random.uniform(lat_range[0], lat_range[1], size=1500)\n",
    "lngs = np.random.uniform(lng_range[0], lng_range[1], size=1500)\n",
    "lat_lngs = zip(lats, lngs)\n",
    "\n",
    "# Identify nearest city for each lat, lng combination\n",
    "for lat_lng in lat_lngs:\n",
    "    city = citipy.nearest_city(lat_lng[0], lat_lng[1]).city_name\n",
    "    \n",
    "    # If the city is unique, then add it to a our cities list\n",
    "    if city not in cities:\n",
    "        cities.append(city)\n",
    "\n",
    "# Print the city count to confirm sufficient count\n",
    "city_count=len(cities)\n",
    "city_count"
   ]
  },
  {
   "cell_type": "code",
   "execution_count": 3,
   "metadata": {},
   "outputs": [],
   "source": [
    "# Save config information.\n",
    "url = \"http://api.openweathermap.org/data/2.5/weather?\"\n",
    "units = \"metric\"\n",
    "params1 = {\"appid\": api_key, \"units\": units, \"q\": city }"
   ]
  },
  {
   "cell_type": "code",
   "execution_count": 4,
   "metadata": {},
   "outputs": [
    {
     "name": "stdout",
     "output_type": "stream",
     "text": [
      "http://api.openweathermap.org/data/2.5/weather?appid=f1896ef9774eec1e5c2ba62805c4b461&units=metric&q=Irvine\n",
      "[\n",
      "  {\n",
      "    \"coord\": {\n",
      "      \"lon\": 16.85,\n",
      "      \"lat\": 8.65\n",
      "    },\n",
      "    \"weather\": [\n",
      "      {\n",
      "        \"id\": 500,\n",
      "        \"main\": \"Rain\",\n",
      "        \"description\": \"light rain\",\n",
      "        \"icon\": \"10n\"\n",
      "      }\n",
      "    ],\n",
      "    \"base\": \"stations\",\n",
      "    \"main\": {\n",
      "      \"temp\": 25.73,\n",
      "      \"feels_like\": 26.08,\n",
      "      \"temp_min\": 25.73,\n",
      "      \"temp_max\": 25.73,\n",
      "      \"pressure\": 1008,\n",
      "      \"humidity\": 66,\n",
      "      \"sea_level\": 1008,\n",
      "      \"grnd_level\": 965\n",
      "    },\n",
      "    \"visibility\": 10000,\n",
      "    \"wind\": {\n",
      "      \"speed\": 1.46,\n",
      "      \"deg\": 192,\n",
      "      \"gust\": 3.81\n",
      "    },\n",
      "    \"rain\": {\n",
      "      \"1h\": 0.32\n",
      "    },\n",
      "    \"clouds\": {\n",
      "      \"all\": 100\n",
      "    },\n",
      "    \"dt\": 1651106310,\n",
      "    \"sys\": {\n",
      "      \"country\": \"TD\",\n",
      "      \"sunrise\": 1651120665,\n",
      "      \"sunset\": 1651165334\n",
      "    },\n",
      "    \"timezone\": 3600,\n",
      "    \"id\": 2433437,\n",
      "    \"name\": \"Doba\",\n",
      "    \"cod\": 200\n",
      "  }\n",
      "]\n",
      "Id========== 2433437\n"
     ]
    }
   ],
   "source": [
    "#Test\n",
    "\n",
    "city=\"Irvine\"\n",
    "\n",
    "# Build partial query URL\n",
    "query_url = f\"{url}appid={api_key}&units={units}&q=\"\n",
    "response1 = requests.get(query_url + city).json()\n",
    "print(query_url + city)\n",
    "\n",
    "\n",
    "response2 = requests.get(url, params=params1).json()\n",
    "#print(response2.url)\n",
    "\n",
    "\n",
    "name_test=response2[\"name\"]\n",
    "id_test= response2[\"id\"]\n",
    "\n",
    "print(json.dumps([response2], indent=2))\n",
    "\n",
    "print(\"Id==========\", id_test)"
   ]
  },
  {
   "cell_type": "code",
   "execution_count": 5,
   "metadata": {},
   "outputs": [
    {
     "name": "stdout",
     "output_type": "stream",
     "text": [
      "8.65\n",
      "cld 100\n",
      "1651106310\n"
     ]
    }
   ],
   "source": [
    "#test 2\n",
    "name_test=response2[\"name\"]\n",
    "id_test= response2[\"id\"]\n",
    "#print(\"Id==========\", id_test)\n",
    "\n",
    " #Main main\": {\n",
    "#      \"temp\": 18.19,\n",
    "#      \"feels_like\": 17.55,\n",
    "#      \"temp_min\": 15.75,\n",
    "#      \"temp_max\": 21.48,\n",
    "#      \"pressure\": 1017,\n",
    "#      \"humidity\": 57\n",
    "lon_test = response2[\"coord\"][\"lon\"]\n",
    "lat_test = response2[\"coord\"][\"lat\"]\n",
    "print(lat_test)\n",
    "\n",
    "temp = response2[\"main\"][\"temp_max\"]\n",
    "humidity_test = response2[\"main\"][\"humidity\"]\n",
    "cld_test = response2[\"clouds\"][\"all\"]\n",
    "print(\"cld\", cld_test)\n",
    "wind_speed = response2[\"wind\"][\"speed\"]\n",
    "country = response2 [\"sys\"][\"country\"]\n",
    "\n",
    "date_test = response2[\"dt\"]\n",
    "print(date_test)"
   ]
  },
  {
   "cell_type": "markdown",
   "metadata": {},
   "source": [
    "# Perform API Calls\n",
    "* Perform a weather check on each city using a series of successive API calls.\n",
    "* Include a print log of each city as it'sbeing processed (with the city number and city name).\n"
   ]
  },
  {
   "cell_type": "code",
   "execution_count": 6,
   "metadata": {},
   "outputs": [],
   "source": [
    "lat = []\n",
    "lng = []\n",
    "max_temp = []\n",
    "cloudiness = []\n",
    "wind_speed = []\n",
    "country = []\n",
    "date = []\n",
    "humidity = []\n",
    "city_name = []"
   ]
  },
  {
   "cell_type": "code",
   "execution_count": 7,
   "metadata": {},
   "outputs": [
    {
     "name": "stdout",
     "output_type": "stream",
     "text": [
      "Processing Record 1 of 639 City Name:  qaanaaq\n",
      "Processing Record 2 of 639 City Name:  yirol\n",
      "City not found. Skipping...\n",
      "Processing Record 3 of 639 City Name:  bambous virieux\n",
      "Processing Record 4 of 639 City Name:  provideniya\n",
      "Processing Record 5 of 639 City Name:  hermanus\n",
      "Processing Record 6 of 639 City Name:  taolanaro\n",
      "City not found. Skipping...\n",
      "Processing Record 7 of 639 City Name:  half moon bay\n",
      "Processing Record 8 of 639 City Name:  kalmunai\n",
      "Processing Record 9 of 639 City Name:  savannah bight\n",
      "Processing Record 10 of 639 City Name:  mar del plata\n",
      "Processing Record 11 of 639 City Name:  kampot\n",
      "Processing Record 12 of 639 City Name:  ostrovnoy\n",
      "Processing Record 13 of 639 City Name:  yellowknife\n",
      "Processing Record 14 of 639 City Name:  katobu\n",
      "Processing Record 15 of 639 City Name:  tuktoyaktuk\n",
      "Processing Record 16 of 639 City Name:  punta arenas\n",
      "Processing Record 17 of 639 City Name:  lagoa\n",
      "Processing Record 18 of 639 City Name:  new norfolk\n",
      "Processing Record 19 of 639 City Name:  savalou\n",
      "Processing Record 20 of 639 City Name:  abu samrah\n",
      "Processing Record 21 of 639 City Name:  pathein\n",
      "Processing Record 22 of 639 City Name:  atuona\n",
      "Processing Record 23 of 639 City Name:  tiksi\n",
      "Processing Record 24 of 639 City Name:  henties bay\n",
      "Processing Record 25 of 639 City Name:  koumac\n",
      "Processing Record 26 of 639 City Name:  butaritari\n",
      "Processing Record 27 of 639 City Name:  mataura\n",
      "Processing Record 28 of 639 City Name:  rikitea\n",
      "Processing Record 29 of 639 City Name:  jamestown\n",
      "Processing Record 30 of 639 City Name:  saint-augustin\n",
      "Processing Record 31 of 639 City Name:  kishi\n",
      "Processing Record 32 of 639 City Name:  gela\n",
      "Processing Record 33 of 639 City Name:  bredasdorp\n",
      "Processing Record 34 of 639 City Name:  roma\n",
      "Processing Record 35 of 639 City Name:  karratha\n",
      "Processing Record 36 of 639 City Name:  ushuaia\n",
      "Processing Record 37 of 639 City Name:  port alfred\n",
      "Processing Record 38 of 639 City Name:  souillac\n",
      "Processing Record 39 of 639 City Name:  bathsheba\n",
      "Processing Record 40 of 639 City Name:  ust-tsilma\n",
      "Processing Record 41 of 639 City Name:  hilo\n",
      "Processing Record 42 of 639 City Name:  bluff\n",
      "Processing Record 43 of 639 City Name:  kapaa\n",
      "Processing Record 44 of 639 City Name:  pelym\n",
      "Processing Record 45 of 639 City Name:  pisco\n",
      "Processing Record 46 of 639 City Name:  la ronge\n",
      "Processing Record 47 of 639 City Name:  ploufragan\n",
      "Processing Record 48 of 639 City Name:  mae hong son\n",
      "Processing Record 49 of 639 City Name:  bethel\n",
      "Processing Record 50 of 639 City Name:  lebu\n",
      "Processing Record 51 of 639 City Name:  upernavik\n",
      "Processing Record 52 of 639 City Name:  vrangel\n",
      "Processing Record 53 of 639 City Name:  bengkulu\n",
      "Processing Record 54 of 639 City Name:  chiredzi\n",
      "Processing Record 55 of 639 City Name:  hudson bay\n",
      "Processing Record 56 of 639 City Name:  busselton\n",
      "Processing Record 57 of 639 City Name:  mglin\n",
      "Processing Record 58 of 639 City Name:  avarua\n",
      "Processing Record 59 of 639 City Name:  samarai\n",
      "Processing Record 60 of 639 City Name:  lyuban\n",
      "Processing Record 61 of 639 City Name:  barrow\n",
      "Processing Record 62 of 639 City Name:  bacalar\n",
      "Processing Record 63 of 639 City Name:  eydhafushi\n",
      "Processing Record 64 of 639 City Name:  labutta\n",
      "City not found. Skipping...\n",
      "Processing Record 65 of 639 City Name:  dikson\n",
      "Processing Record 66 of 639 City Name:  umzimvubu\n",
      "City not found. Skipping...\n",
      "Processing Record 67 of 639 City Name:  zemaiciu naumiestis\n",
      "Processing Record 68 of 639 City Name:  palembang\n",
      "Processing Record 69 of 639 City Name:  port elizabeth\n",
      "Processing Record 70 of 639 City Name:  cabatuan\n",
      "Processing Record 71 of 639 City Name:  sudak\n",
      "Processing Record 72 of 639 City Name:  adrar\n",
      "Processing Record 73 of 639 City Name:  bow island\n",
      "Processing Record 74 of 639 City Name:  grand gaube\n",
      "Processing Record 75 of 639 City Name:  maarianhamina\n",
      "Processing Record 76 of 639 City Name:  petropavlovsk-kamchatskiy\n",
      "Processing Record 77 of 639 City Name:  vila\n",
      "Processing Record 78 of 639 City Name:  ranong\n",
      "Processing Record 79 of 639 City Name:  ondorhaan\n",
      "City not found. Skipping...\n",
      "Processing Record 80 of 639 City Name:  picos\n",
      "Processing Record 81 of 639 City Name:  faya\n",
      "Processing Record 82 of 639 City Name:  port hedland\n",
      "Processing Record 83 of 639 City Name:  barentsburg\n",
      "City not found. Skipping...\n",
      "Processing Record 84 of 639 City Name:  katsuura\n",
      "Processing Record 85 of 639 City Name:  hobyo\n",
      "Processing Record 86 of 639 City Name:  kununurra\n",
      "Processing Record 87 of 639 City Name:  oranjemund\n",
      "Processing Record 88 of 639 City Name:  saint-francois\n",
      "Processing Record 89 of 639 City Name:  shubarshi\n",
      "Processing Record 90 of 639 City Name:  carutapera\n",
      "Processing Record 91 of 639 City Name:  ribeira grande\n",
      "Processing Record 92 of 639 City Name:  cape town\n",
      "Processing Record 93 of 639 City Name:  aklavik\n",
      "Processing Record 94 of 639 City Name:  mouila\n",
      "Processing Record 95 of 639 City Name:  flin flon\n",
      "Processing Record 96 of 639 City Name:  mys shmidta\n",
      "City not found. Skipping...\n",
      "Processing Record 97 of 639 City Name:  coihaique\n",
      "Processing Record 98 of 639 City Name:  flic en flac\n",
      "Processing Record 99 of 639 City Name:  esperance\n",
      "Processing Record 100 of 639 City Name:  vuktyl\n",
      "Processing Record 101 of 639 City Name:  sorong\n",
      "Processing Record 102 of 639 City Name:  tucuman\n",
      "Processing Record 103 of 639 City Name:  saint-philippe\n",
      "Processing Record 104 of 639 City Name:  ust-koksa\n",
      "Processing Record 105 of 639 City Name:  bukama\n",
      "Processing Record 106 of 639 City Name:  rio claro\n",
      "Processing Record 107 of 639 City Name:  dingle\n",
      "Processing Record 108 of 639 City Name:  codrington\n",
      "Processing Record 109 of 639 City Name:  atar\n",
      "Processing Record 110 of 639 City Name:  sitka\n",
      "Processing Record 111 of 639 City Name:  mahebourg\n",
      "Processing Record 112 of 639 City Name:  inhambane\n",
      "Processing Record 113 of 639 City Name:  hobart\n",
      "Processing Record 114 of 639 City Name:  namibe\n",
      "Processing Record 115 of 639 City Name:  hithadhoo\n",
      "Processing Record 116 of 639 City Name:  innisfail\n",
      "Processing Record 117 of 639 City Name:  harbin\n",
      "Processing Record 118 of 639 City Name:  skender vakuf\n",
      "Processing Record 119 of 639 City Name:  bac lieu\n",
      "Processing Record 120 of 639 City Name:  sioux lookout\n",
      "Processing Record 121 of 639 City Name:  one hundred mile house\n",
      "City not found. Skipping...\n",
      "Processing Record 122 of 639 City Name:  aksu\n",
      "Processing Record 123 of 639 City Name:  tongliao\n",
      "Processing Record 124 of 639 City Name:  isangel\n",
      "Processing Record 125 of 639 City Name:  carnarvon\n",
      "Processing Record 126 of 639 City Name:  jiazi\n",
      "Processing Record 127 of 639 City Name:  maracacume\n",
      "Processing Record 128 of 639 City Name:  allapalli\n",
      "Processing Record 129 of 639 City Name:  namatanai\n",
      "Processing Record 130 of 639 City Name:  viligili\n",
      "City not found. Skipping...\n",
      "Processing Record 131 of 639 City Name:  prince rupert\n",
      "Processing Record 132 of 639 City Name:  cabo san lucas\n",
      "Processing Record 133 of 639 City Name:  ekibastuz\n",
      "Processing Record 134 of 639 City Name:  cidreira\n",
      "Processing Record 135 of 639 City Name:  tual\n",
      "Processing Record 136 of 639 City Name:  albany\n",
      "Processing Record 137 of 639 City Name:  korla\n",
      "Processing Record 138 of 639 City Name:  leh\n",
      "Processing Record 139 of 639 City Name:  vaini\n",
      "Processing Record 140 of 639 City Name:  saskylakh\n",
      "Processing Record 141 of 639 City Name:  kurumkan\n",
      "Processing Record 142 of 639 City Name:  batagay-alyta\n",
      "Processing Record 143 of 639 City Name:  balykshi\n",
      "Processing Record 144 of 639 City Name:  jalapa\n",
      "Processing Record 145 of 639 City Name:  tsihombe\n",
      "City not found. Skipping...\n",
      "Processing Record 146 of 639 City Name:  tautira\n",
      "Processing Record 147 of 639 City Name:  kahului\n",
      "Processing Record 148 of 639 City Name:  kapuskasing\n",
      "Processing Record 149 of 639 City Name:  mana\n",
      "Processing Record 150 of 639 City Name:  torbay\n",
      "Processing Record 151 of 639 City Name:  touros\n",
      "Processing Record 152 of 639 City Name:  illoqqortoormiut\n",
      "City not found. Skipping...\n",
      "Processing Record 153 of 639 City Name:  severo-kurilsk\n",
      "Processing Record 154 of 639 City Name:  busembatia\n",
      "Processing Record 155 of 639 City Name:  arraial do cabo\n",
      "Processing Record 156 of 639 City Name:  la romana\n",
      "Processing Record 157 of 639 City Name:  oudtshoorn\n",
      "Processing Record 158 of 639 City Name:  asau\n",
      "Processing Record 159 of 639 City Name:  ormara\n"
     ]
    },
    {
     "name": "stdout",
     "output_type": "stream",
     "text": [
      "Processing Record 160 of 639 City Name:  kudahuvadhoo\n",
      "Processing Record 161 of 639 City Name:  vawkavysk\n",
      "Processing Record 162 of 639 City Name:  kodiak\n",
      "Processing Record 163 of 639 City Name:  maniitsoq\n",
      "Processing Record 164 of 639 City Name:  vestmanna\n",
      "Processing Record 165 of 639 City Name:  fevralsk\n",
      "City not found. Skipping...\n",
      "Processing Record 166 of 639 City Name:  tiarei\n",
      "Processing Record 167 of 639 City Name:  kruisfontein\n",
      "Processing Record 168 of 639 City Name:  khanpur\n",
      "Processing Record 169 of 639 City Name:  abha\n",
      "Processing Record 170 of 639 City Name:  chokurdakh\n",
      "Processing Record 171 of 639 City Name:  koungou\n",
      "Processing Record 172 of 639 City Name:  hamilton\n",
      "Processing Record 173 of 639 City Name:  northam\n",
      "Processing Record 174 of 639 City Name:  kapoeta\n",
      "Processing Record 175 of 639 City Name:  iqaluit\n",
      "Processing Record 176 of 639 City Name:  westport\n",
      "Processing Record 177 of 639 City Name:  manga\n",
      "Processing Record 178 of 639 City Name:  chuy\n",
      "Processing Record 179 of 639 City Name:  cherskiy\n",
      "Processing Record 180 of 639 City Name:  jinchengjiang\n",
      "City not found. Skipping...\n",
      "Processing Record 181 of 639 City Name:  puerto ayora\n",
      "Processing Record 182 of 639 City Name:  castro\n",
      "Processing Record 183 of 639 City Name:  north bend\n",
      "Processing Record 184 of 639 City Name:  svetlaya\n",
      "Processing Record 185 of 639 City Name:  attawapiskat\n",
      "City not found. Skipping...\n",
      "Processing Record 186 of 639 City Name:  talnakh\n",
      "Processing Record 187 of 639 City Name:  tokat\n",
      "Processing Record 188 of 639 City Name:  marcona\n",
      "City not found. Skipping...\n",
      "Processing Record 189 of 639 City Name:  damghan\n",
      "Processing Record 190 of 639 City Name:  lamar\n",
      "Processing Record 191 of 639 City Name:  quebec\n",
      "Processing Record 192 of 639 City Name:  byron bay\n",
      "Processing Record 193 of 639 City Name:  ballina\n",
      "Processing Record 194 of 639 City Name:  lavrentiya\n",
      "Processing Record 195 of 639 City Name:  tashara\n",
      "Processing Record 196 of 639 City Name:  husavik\n",
      "Processing Record 197 of 639 City Name:  kavieng\n",
      "Processing Record 198 of 639 City Name:  stornoway\n",
      "Processing Record 199 of 639 City Name:  east london\n",
      "Processing Record 200 of 639 City Name:  price\n",
      "Processing Record 201 of 639 City Name:  menongue\n",
      "Processing Record 202 of 639 City Name:  bethanien\n",
      "Processing Record 203 of 639 City Name:  shibarghan\n",
      "City not found. Skipping...\n",
      "Processing Record 204 of 639 City Name:  oskemen\n",
      "Processing Record 205 of 639 City Name:  khatanga\n",
      "Processing Record 206 of 639 City Name:  vila velha\n",
      "Processing Record 207 of 639 City Name:  lardos\n",
      "Processing Record 208 of 639 City Name:  san gabriel\n",
      "Processing Record 209 of 639 City Name:  itarema\n",
      "Processing Record 210 of 639 City Name:  bandarbeyla\n",
      "Processing Record 211 of 639 City Name:  dakoro\n",
      "Processing Record 212 of 639 City Name:  assiniboia\n",
      "Processing Record 213 of 639 City Name:  luderitz\n",
      "Processing Record 214 of 639 City Name:  agapovka\n",
      "Processing Record 215 of 639 City Name:  bulgan\n",
      "Processing Record 216 of 639 City Name:  bemidji\n",
      "Processing Record 217 of 639 City Name:  balikpapan\n",
      "Processing Record 218 of 639 City Name:  brae\n",
      "Processing Record 219 of 639 City Name:  mweka\n",
      "Processing Record 220 of 639 City Name:  kieta\n",
      "Processing Record 221 of 639 City Name:  miri\n",
      "Processing Record 222 of 639 City Name:  tasiilaq\n",
      "Processing Record 223 of 639 City Name:  pemangkat\n",
      "Processing Record 224 of 639 City Name:  garoua\n",
      "Processing Record 225 of 639 City Name:  kaohsiung\n",
      "Processing Record 226 of 639 City Name:  kadykchan\n",
      "City not found. Skipping...\n",
      "Processing Record 227 of 639 City Name:  yulara\n",
      "Processing Record 228 of 639 City Name:  qasigiannguit\n",
      "Processing Record 229 of 639 City Name:  kano\n",
      "Processing Record 230 of 639 City Name:  shimoda\n",
      "Processing Record 231 of 639 City Name:  sao joao da barra\n",
      "Processing Record 232 of 639 City Name:  faanui\n",
      "Processing Record 233 of 639 City Name:  thompson\n",
      "Processing Record 234 of 639 City Name:  lompoc\n",
      "Processing Record 235 of 639 City Name:  piacabucu\n",
      "Processing Record 236 of 639 City Name:  olga\n",
      "Processing Record 237 of 639 City Name:  neuquen\n",
      "Processing Record 238 of 639 City Name:  morgan city\n",
      "Processing Record 239 of 639 City Name:  padilla\n",
      "Processing Record 240 of 639 City Name:  wilmington island\n",
      "Processing Record 241 of 639 City Name:  thinadhoo\n",
      "Processing Record 242 of 639 City Name:  aswan\n",
      "Processing Record 243 of 639 City Name:  palmer\n",
      "Processing Record 244 of 639 City Name:  liberal\n",
      "Processing Record 245 of 639 City Name:  kuusamo\n",
      "Processing Record 246 of 639 City Name:  agadez\n",
      "Processing Record 247 of 639 City Name:  ponta do sol\n",
      "Processing Record 248 of 639 City Name:  pevek\n",
      "Processing Record 249 of 639 City Name:  beyneu\n",
      "Processing Record 250 of 639 City Name:  nanortalik\n",
      "Processing Record 251 of 639 City Name:  ossora\n",
      "Processing Record 252 of 639 City Name:  mullaitivu\n",
      "City not found. Skipping...\n",
      "Processing Record 253 of 639 City Name:  krasnoselkup\n",
      "Processing Record 254 of 639 City Name:  mackay\n",
      "Processing Record 255 of 639 City Name:  kaeo\n",
      "Processing Record 256 of 639 City Name:  ahipara\n",
      "Processing Record 257 of 639 City Name:  belaya gora\n",
      "Processing Record 258 of 639 City Name:  namuac\n",
      "Processing Record 259 of 639 City Name:  banyo\n",
      "Processing Record 260 of 639 City Name:  baihar\n",
      "Processing Record 261 of 639 City Name:  khorramshahr\n",
      "Processing Record 262 of 639 City Name:  hofn\n",
      "Processing Record 263 of 639 City Name:  constitucion\n",
      "Processing Record 264 of 639 City Name:  maxixe\n",
      "Processing Record 265 of 639 City Name:  moron\n",
      "Processing Record 266 of 639 City Name:  alice springs\n",
      "Processing Record 267 of 639 City Name:  colares\n",
      "Processing Record 268 of 639 City Name:  ankazoabo\n",
      "Processing Record 269 of 639 City Name:  bage\n",
      "Processing Record 270 of 639 City Name:  de aar\n",
      "Processing Record 271 of 639 City Name:  podor\n",
      "Processing Record 272 of 639 City Name:  saleaula\n",
      "City not found. Skipping...\n",
      "Processing Record 273 of 639 City Name:  port augusta\n",
      "Processing Record 274 of 639 City Name:  udala\n",
      "Processing Record 275 of 639 City Name:  okhotsk\n",
      "Processing Record 276 of 639 City Name:  airai\n",
      "Processing Record 277 of 639 City Name:  pilao arcado\n",
      "City not found. Skipping...\n",
      "Processing Record 278 of 639 City Name:  lieksa\n",
      "Processing Record 279 of 639 City Name:  nikolskoye\n",
      "Processing Record 280 of 639 City Name:  kaitangata\n",
      "Processing Record 281 of 639 City Name:  belushya guba\n",
      "City not found. Skipping...\n",
      "Processing Record 282 of 639 City Name:  king city\n",
      "Processing Record 283 of 639 City Name:  erzin\n",
      "Processing Record 284 of 639 City Name:  szolnok\n",
      "Processing Record 285 of 639 City Name:  nelson bay\n",
      "Processing Record 286 of 639 City Name:  zhigansk\n",
      "Processing Record 287 of 639 City Name:  raudeberg\n",
      "Processing Record 288 of 639 City Name:  wanaka\n",
      "Processing Record 289 of 639 City Name:  sentyabrskiy\n",
      "City not found. Skipping...\n",
      "Processing Record 290 of 639 City Name:  santo domingo\n",
      "Processing Record 291 of 639 City Name:  nouadhibou\n",
      "Processing Record 292 of 639 City Name:  longyearbyen\n",
      "Processing Record 293 of 639 City Name:  pouebo\n",
      "Processing Record 294 of 639 City Name:  yanacancha\n",
      "Processing Record 295 of 639 City Name:  hasaki\n",
      "Processing Record 296 of 639 City Name:  hornepayne\n",
      "Processing Record 297 of 639 City Name:  bodden town\n",
      "Processing Record 298 of 639 City Name:  bud\n",
      "Processing Record 299 of 639 City Name:  mugur-aksy\n",
      "Processing Record 300 of 639 City Name:  concepcion\n",
      "Processing Record 301 of 639 City Name:  kasongo\n",
      "Processing Record 302 of 639 City Name:  pili\n",
      "Processing Record 303 of 639 City Name:  dongli\n",
      "Processing Record 304 of 639 City Name:  margate\n",
      "Processing Record 305 of 639 City Name:  warqla\n",
      "City not found. Skipping...\n",
      "Processing Record 306 of 639 City Name:  acapulco\n",
      "Processing Record 307 of 639 City Name:  chihuahua\n",
      "Processing Record 308 of 639 City Name:  carnot\n",
      "Processing Record 309 of 639 City Name:  sinnar\n",
      "Processing Record 310 of 639 City Name:  kaoma\n",
      "Processing Record 311 of 639 City Name:  burns lake\n",
      "Processing Record 312 of 639 City Name:  caborca\n",
      "Processing Record 313 of 639 City Name:  pokrovskoye\n",
      "Processing Record 314 of 639 City Name:  mayumba\n",
      "Processing Record 315 of 639 City Name:  bintulu\n",
      "Processing Record 316 of 639 City Name:  coahuayana\n",
      "Processing Record 317 of 639 City Name:  tinskoy\n"
     ]
    },
    {
     "name": "stdout",
     "output_type": "stream",
     "text": [
      "Processing Record 318 of 639 City Name:  ranau\n",
      "Processing Record 319 of 639 City Name:  cabedelo\n",
      "Processing Record 320 of 639 City Name:  mwanza\n",
      "Processing Record 321 of 639 City Name:  saldanha\n",
      "Processing Record 322 of 639 City Name:  kathu\n",
      "Processing Record 323 of 639 City Name:  ilulissat\n",
      "Processing Record 324 of 639 City Name:  grand river south east\n",
      "City not found. Skipping...\n",
      "Processing Record 325 of 639 City Name:  douglas\n",
      "Processing Record 326 of 639 City Name:  krasnaya gora\n",
      "Processing Record 327 of 639 City Name:  kurush\n",
      "Processing Record 328 of 639 City Name:  saint-georges\n",
      "Processing Record 329 of 639 City Name:  great falls\n",
      "Processing Record 330 of 639 City Name:  aripuana\n",
      "Processing Record 331 of 639 City Name:  nizwa\n",
      "Processing Record 332 of 639 City Name:  jaffna\n",
      "Processing Record 333 of 639 City Name:  beringovskiy\n",
      "Processing Record 334 of 639 City Name:  vagur\n",
      "Processing Record 335 of 639 City Name:  sur\n",
      "Processing Record 336 of 639 City Name:  caravelas\n",
      "Processing Record 337 of 639 City Name:  orlik\n",
      "Processing Record 338 of 639 City Name:  katra\n",
      "Processing Record 339 of 639 City Name:  nipawin\n",
      "Processing Record 340 of 639 City Name:  vaitupu\n",
      "City not found. Skipping...\n",
      "Processing Record 341 of 639 City Name:  awash\n",
      "Processing Record 342 of 639 City Name:  predivinsk\n",
      "Processing Record 343 of 639 City Name:  rize\n",
      "Processing Record 344 of 639 City Name:  dzhusaly\n",
      "City not found. Skipping...\n",
      "Processing Record 345 of 639 City Name:  bastia\n",
      "Processing Record 346 of 639 City Name:  tianpeng\n",
      "Processing Record 347 of 639 City Name:  hollabrunn\n",
      "Processing Record 348 of 639 City Name:  marzuq\n",
      "Processing Record 349 of 639 City Name:  deyang\n",
      "Processing Record 350 of 639 City Name:  arlit\n",
      "Processing Record 351 of 639 City Name:  kayes\n",
      "Processing Record 352 of 639 City Name:  georgetown\n",
      "Processing Record 353 of 639 City Name:  dunedin\n",
      "Processing Record 354 of 639 City Name:  urengoy\n",
      "Processing Record 355 of 639 City Name:  salinopolis\n",
      "Processing Record 356 of 639 City Name:  whitianga\n",
      "Processing Record 357 of 639 City Name:  kuche\n",
      "City not found. Skipping...\n",
      "Processing Record 358 of 639 City Name:  kupang\n",
      "Processing Record 359 of 639 City Name:  carlisle\n",
      "Processing Record 360 of 639 City Name:  ranchpar\n",
      "Processing Record 361 of 639 City Name:  asfi\n",
      "Processing Record 362 of 639 City Name:  kalemie\n",
      "Processing Record 363 of 639 City Name:  kawalu\n",
      "Processing Record 364 of 639 City Name:  rio gallegos\n",
      "Processing Record 365 of 639 City Name:  bokspits\n",
      "City not found. Skipping...\n",
      "Processing Record 366 of 639 City Name:  kosa\n",
      "Processing Record 367 of 639 City Name:  sao filipe\n",
      "Processing Record 368 of 639 City Name:  turriff\n",
      "Processing Record 369 of 639 City Name:  yeppoon\n",
      "Processing Record 370 of 639 City Name:  anadyr\n",
      "Processing Record 371 of 639 City Name:  gat\n",
      "Processing Record 372 of 639 City Name:  samusu\n",
      "City not found. Skipping...\n",
      "Processing Record 373 of 639 City Name:  xapuri\n",
      "Processing Record 374 of 639 City Name:  mahajanga\n",
      "Processing Record 375 of 639 City Name:  paamiut\n",
      "Processing Record 376 of 639 City Name:  lakes entrance\n",
      "Processing Record 377 of 639 City Name:  san luis\n",
      "Processing Record 378 of 639 City Name:  klaksvik\n",
      "Processing Record 379 of 639 City Name:  eruwa\n",
      "Processing Record 380 of 639 City Name:  rio branco\n",
      "Processing Record 381 of 639 City Name:  dwarka\n",
      "Processing Record 382 of 639 City Name:  saint-pierre\n",
      "Processing Record 383 of 639 City Name:  sacama\n",
      "Processing Record 384 of 639 City Name:  goldap\n",
      "Processing Record 385 of 639 City Name:  lalomanu\n",
      "City not found. Skipping...\n",
      "Processing Record 386 of 639 City Name:  fortuna\n",
      "Processing Record 387 of 639 City Name:  moratuwa\n",
      "Processing Record 388 of 639 City Name:  sisimiut\n",
      "Processing Record 389 of 639 City Name:  tokur\n",
      "Processing Record 390 of 639 City Name:  peddapalli\n",
      "Processing Record 391 of 639 City Name:  norman wells\n",
      "Processing Record 392 of 639 City Name:  varska\n",
      "City not found. Skipping...\n",
      "Processing Record 393 of 639 City Name:  awjilah\n",
      "Processing Record 394 of 639 City Name:  birjand\n",
      "Processing Record 395 of 639 City Name:  lithgow\n",
      "Processing Record 396 of 639 City Name:  richards bay\n",
      "Processing Record 397 of 639 City Name:  waddan\n",
      "Processing Record 398 of 639 City Name:  lermontovka\n",
      "Processing Record 399 of 639 City Name:  saravena\n",
      "Processing Record 400 of 639 City Name:  sao paulo de olivenca\n",
      "Processing Record 401 of 639 City Name:  lata\n",
      "Processing Record 402 of 639 City Name:  rapid valley\n",
      "Processing Record 403 of 639 City Name:  carlagan\n",
      "Processing Record 404 of 639 City Name:  port macquarie\n",
      "Processing Record 405 of 639 City Name:  broome\n",
      "Processing Record 406 of 639 City Name:  guerrero negro\n",
      "Processing Record 407 of 639 City Name:  vao\n",
      "Processing Record 408 of 639 City Name:  ituni\n",
      "City not found. Skipping...\n",
      "Processing Record 409 of 639 City Name:  ulladulla\n",
      "Processing Record 410 of 639 City Name:  najran\n",
      "Processing Record 411 of 639 City Name:  nizhneyansk\n",
      "City not found. Skipping...\n",
      "Processing Record 412 of 639 City Name:  valparaiso\n",
      "Processing Record 413 of 639 City Name:  isabela\n",
      "Processing Record 414 of 639 City Name:  uvat\n",
      "Processing Record 415 of 639 City Name:  parkersburg\n",
      "Processing Record 416 of 639 City Name:  jutai\n",
      "Processing Record 417 of 639 City Name:  mimongo\n",
      "Processing Record 418 of 639 City Name:  nemuro\n",
      "Processing Record 419 of 639 City Name:  antofagasta\n",
      "Processing Record 420 of 639 City Name:  verbilki\n",
      "Processing Record 421 of 639 City Name:  thoen\n",
      "Processing Record 422 of 639 City Name:  gilbues\n",
      "Processing Record 423 of 639 City Name:  toliary\n",
      "City not found. Skipping...\n",
      "Processing Record 424 of 639 City Name:  victoria\n",
      "Processing Record 425 of 639 City Name:  yunjinghong\n",
      "City not found. Skipping...\n",
      "Processing Record 426 of 639 City Name:  ferrol\n",
      "Processing Record 427 of 639 City Name:  ulaanbaatar\n",
      "Processing Record 428 of 639 City Name:  tumannyy\n",
      "City not found. Skipping...\n",
      "Processing Record 429 of 639 City Name:  zhezkazgan\n",
      "Processing Record 430 of 639 City Name:  vilyuysk\n",
      "Processing Record 431 of 639 City Name:  terrace\n",
      "Processing Record 432 of 639 City Name:  manakara\n",
      "Processing Record 433 of 639 City Name:  yartsevo\n",
      "Processing Record 434 of 639 City Name:  sobolevo\n",
      "Processing Record 435 of 639 City Name:  diffa\n",
      "Processing Record 436 of 639 City Name:  siderno\n",
      "Processing Record 437 of 639 City Name:  coria\n",
      "Processing Record 438 of 639 City Name:  pak phanang\n",
      "Processing Record 439 of 639 City Name:  krasnyy yar\n",
      "Processing Record 440 of 639 City Name:  denpasar\n",
      "Processing Record 441 of 639 City Name:  phumi samraong\n",
      "City not found. Skipping...\n",
      "Processing Record 442 of 639 City Name:  ararat\n",
      "Processing Record 443 of 639 City Name:  marabba\n",
      "Processing Record 444 of 639 City Name:  san cristobal\n",
      "Processing Record 445 of 639 City Name:  manokwari\n",
      "Processing Record 446 of 639 City Name:  nantucket\n",
      "Processing Record 447 of 639 City Name:  rognan\n",
      "Processing Record 448 of 639 City Name:  campobasso\n",
      "Processing Record 449 of 639 City Name:  biloela\n",
      "Processing Record 450 of 639 City Name:  basco\n",
      "Processing Record 451 of 639 City Name:  hanna\n",
      "Processing Record 452 of 639 City Name:  alofi\n",
      "Processing Record 453 of 639 City Name:  tabou\n",
      "Processing Record 454 of 639 City Name:  krasnyy oktyabr\n",
      "Processing Record 455 of 639 City Name:  kvitok\n",
      "Processing Record 456 of 639 City Name:  merauke\n",
      "Processing Record 457 of 639 City Name:  urucurituba\n",
      "Processing Record 458 of 639 City Name:  shenjiamen\n",
      "Processing Record 459 of 639 City Name:  porto murtinho\n",
      "Processing Record 460 of 639 City Name:  phrae\n",
      "Processing Record 461 of 639 City Name:  san andres\n",
      "Processing Record 462 of 639 City Name:  omsukchan\n",
      "Processing Record 463 of 639 City Name:  qaqortoq\n",
      "Processing Record 464 of 639 City Name:  meulaboh\n",
      "Processing Record 465 of 639 City Name:  cascais\n",
      "Processing Record 466 of 639 City Name:  kamaishi\n",
      "Processing Record 467 of 639 City Name:  fomboni\n",
      "Processing Record 468 of 639 City Name:  padang\n",
      "Processing Record 469 of 639 City Name:  curico\n",
      "Processing Record 470 of 639 City Name:  cukai\n",
      "Processing Record 471 of 639 City Name:  bonavista\n",
      "Processing Record 472 of 639 City Name:  huilong\n",
      "Processing Record 473 of 639 City Name:  taburi\n",
      "City not found. Skipping...\n"
     ]
    },
    {
     "name": "stdout",
     "output_type": "stream",
     "text": [
      "Processing Record 474 of 639 City Name:  san patricio\n",
      "Processing Record 475 of 639 City Name:  denholm\n",
      "Processing Record 476 of 639 City Name:  bernay\n",
      "Processing Record 477 of 639 City Name:  male\n",
      "Processing Record 478 of 639 City Name:  hvolsvollur\n",
      "Processing Record 479 of 639 City Name:  boguchany\n",
      "Processing Record 480 of 639 City Name:  datong\n",
      "Processing Record 481 of 639 City Name:  port hardy\n",
      "Processing Record 482 of 639 City Name:  laguna\n",
      "Processing Record 483 of 639 City Name:  libreville\n",
      "Processing Record 484 of 639 City Name:  san pedro\n",
      "Processing Record 485 of 639 City Name:  marawi\n",
      "Processing Record 486 of 639 City Name:  virginia beach\n",
      "Processing Record 487 of 639 City Name:  alihe\n",
      "Processing Record 488 of 639 City Name:  kazalinsk\n",
      "City not found. Skipping...\n",
      "Processing Record 489 of 639 City Name:  umm lajj\n",
      "Processing Record 490 of 639 City Name:  nyurba\n",
      "Processing Record 491 of 639 City Name:  yaan\n",
      "Processing Record 492 of 639 City Name:  pyaozerskiy\n",
      "Processing Record 493 of 639 City Name:  puerto baquerizo moreno\n",
      "Processing Record 494 of 639 City Name:  filadelfia\n",
      "Processing Record 495 of 639 City Name:  xunchang\n",
      "Processing Record 496 of 639 City Name:  moyale\n",
      "Processing Record 497 of 639 City Name:  biak\n",
      "Processing Record 498 of 639 City Name:  gayny\n",
      "Processing Record 499 of 639 City Name:  roald\n",
      "Processing Record 500 of 639 City Name:  grindavik\n",
      "Processing Record 501 of 639 City Name:  tilichiki\n",
      "Processing Record 502 of 639 City Name:  te anau\n",
      "Processing Record 503 of 639 City Name:  cayenne\n",
      "Processing Record 504 of 639 City Name:  opuwo\n",
      "Processing Record 505 of 639 City Name:  natal\n",
      "Processing Record 506 of 639 City Name:  shangzhi\n",
      "Processing Record 507 of 639 City Name:  pribyslav\n",
      "Processing Record 508 of 639 City Name:  puerto escondido\n",
      "Processing Record 509 of 639 City Name:  rio branco do sul\n",
      "Processing Record 510 of 639 City Name:  bilma\n",
      "Processing Record 511 of 639 City Name:  cobija\n",
      "Processing Record 512 of 639 City Name:  bentiu\n",
      "Processing Record 513 of 639 City Name:  galesong\n",
      "Processing Record 514 of 639 City Name:  kenai\n",
      "Processing Record 515 of 639 City Name:  kwekwe\n",
      "Processing Record 516 of 639 City Name:  serenje\n",
      "Processing Record 517 of 639 City Name:  adana\n",
      "Processing Record 518 of 639 City Name:  kemise\n",
      "Processing Record 519 of 639 City Name:  mount gambier\n",
      "Processing Record 520 of 639 City Name:  port-gentil\n",
      "Processing Record 521 of 639 City Name:  galle\n",
      "Processing Record 522 of 639 City Name:  hanstholm\n",
      "Processing Record 523 of 639 City Name:  tucupita\n",
      "Processing Record 524 of 639 City Name:  kabarnet\n",
      "Processing Record 525 of 639 City Name:  zhoucheng\n",
      "Processing Record 526 of 639 City Name:  angoram\n",
      "Processing Record 527 of 639 City Name:  rioja\n",
      "Processing Record 528 of 639 City Name:  santa maria\n",
      "Processing Record 529 of 639 City Name:  harer\n",
      "Processing Record 530 of 639 City Name:  pahrump\n",
      "Processing Record 531 of 639 City Name:  leningradskiy\n",
      "Processing Record 532 of 639 City Name:  puerto suarez\n",
      "Processing Record 533 of 639 City Name:  prosotsani\n",
      "Processing Record 534 of 639 City Name:  rio grande\n",
      "Processing Record 535 of 639 City Name:  artigas\n",
      "Processing Record 536 of 639 City Name:  amderma\n",
      "City not found. Skipping...\n",
      "Processing Record 537 of 639 City Name:  kuala pilah\n",
      "Processing Record 538 of 639 City Name:  vardo\n",
      "Processing Record 539 of 639 City Name:  sibolga\n",
      "Processing Record 540 of 639 City Name:  aykhal\n",
      "Processing Record 541 of 639 City Name:  koslan\n",
      "Processing Record 542 of 639 City Name:  marion\n",
      "Processing Record 543 of 639 City Name:  seddon\n",
      "Processing Record 544 of 639 City Name:  itapuranga\n",
      "Processing Record 545 of 639 City Name:  dicabisagan\n",
      "Processing Record 546 of 639 City Name:  port lincoln\n",
      "Processing Record 547 of 639 City Name:  ixtapa\n",
      "Processing Record 548 of 639 City Name:  darnah\n",
      "Processing Record 549 of 639 City Name:  royal palm beach\n",
      "Processing Record 550 of 639 City Name:  labuhan\n",
      "Processing Record 551 of 639 City Name:  burnie\n",
      "Processing Record 552 of 639 City Name:  lorengau\n",
      "Processing Record 553 of 639 City Name:  beira\n",
      "Processing Record 554 of 639 City Name:  shaoyang\n",
      "Processing Record 555 of 639 City Name:  sambava\n",
      "Processing Record 556 of 639 City Name:  halalo\n",
      "City not found. Skipping...\n",
      "Processing Record 557 of 639 City Name:  bafoulabe\n",
      "Processing Record 558 of 639 City Name:  point pedro\n",
      "Processing Record 559 of 639 City Name:  ca mau\n",
      "Processing Record 560 of 639 City Name:  george\n",
      "Processing Record 561 of 639 City Name:  ardakan\n",
      "Processing Record 562 of 639 City Name:  college\n",
      "Processing Record 563 of 639 City Name:  cap malheureux\n",
      "Processing Record 564 of 639 City Name:  clyde river\n",
      "Processing Record 565 of 639 City Name:  acarau\n",
      "Processing Record 566 of 639 City Name:  beterou\n",
      "Processing Record 567 of 639 City Name:  chernushka\n",
      "Processing Record 568 of 639 City Name:  lagos\n",
      "Processing Record 569 of 639 City Name:  fort nelson\n",
      "Processing Record 570 of 639 City Name:  vangaindrano\n",
      "Processing Record 571 of 639 City Name:  poum\n",
      "Processing Record 572 of 639 City Name:  sao miguel do araguaia\n",
      "Processing Record 573 of 639 City Name:  lasa\n",
      "Processing Record 574 of 639 City Name:  hachinohe\n",
      "Processing Record 575 of 639 City Name:  bocanda\n",
      "Processing Record 576 of 639 City Name:  karkaralinsk\n",
      "City not found. Skipping...\n",
      "Processing Record 577 of 639 City Name:  bur gabo\n",
      "City not found. Skipping...\n",
      "Processing Record 578 of 639 City Name:  estacion coahuila\n",
      "Processing Record 579 of 639 City Name:  khonuu\n",
      "City not found. Skipping...\n",
      "Processing Record 580 of 639 City Name:  gwadar\n",
      "Processing Record 581 of 639 City Name:  chapais\n",
      "Processing Record 582 of 639 City Name:  hirara\n",
      "Processing Record 583 of 639 City Name:  jalu\n",
      "Processing Record 584 of 639 City Name:  san jeronimo\n",
      "Processing Record 585 of 639 City Name:  cockburn town\n",
      "Processing Record 586 of 639 City Name:  mosquera\n",
      "Processing Record 587 of 639 City Name:  xining\n",
      "Processing Record 588 of 639 City Name:  karpogory\n",
      "Processing Record 589 of 639 City Name:  opmeer\n",
      "Processing Record 590 of 639 City Name:  the valley\n",
      "Processing Record 591 of 639 City Name:  champerico\n",
      "Processing Record 592 of 639 City Name:  palabuhanratu\n",
      "City not found. Skipping...\n",
      "Processing Record 593 of 639 City Name:  kalghatgi\n",
      "Processing Record 594 of 639 City Name:  vostok\n",
      "Processing Record 595 of 639 City Name:  bonito\n",
      "Processing Record 596 of 639 City Name:  nenjiang\n",
      "Processing Record 597 of 639 City Name:  peniche\n",
      "Processing Record 598 of 639 City Name:  sokolo\n",
      "Processing Record 599 of 639 City Name:  kavaratti\n",
      "Processing Record 600 of 639 City Name:  panguna\n",
      "Processing Record 601 of 639 City Name:  haines junction\n",
      "Processing Record 602 of 639 City Name:  antalaha\n",
      "Processing Record 603 of 639 City Name:  kemi\n",
      "Processing Record 604 of 639 City Name:  oriximina\n",
      "Processing Record 605 of 639 City Name:  ayagoz\n",
      "Processing Record 606 of 639 City Name:  rockport\n",
      "Processing Record 607 of 639 City Name:  windham\n",
      "Processing Record 608 of 639 City Name:  takaungu\n",
      "Processing Record 609 of 639 City Name:  waipawa\n",
      "Processing Record 610 of 639 City Name:  lima\n",
      "Processing Record 611 of 639 City Name:  taksimo\n",
      "Processing Record 612 of 639 City Name:  diapaga\n",
      "Processing Record 613 of 639 City Name:  vila franca do campo\n",
      "Processing Record 614 of 639 City Name:  fairbanks\n",
      "Processing Record 615 of 639 City Name:  gigmoto\n",
      "Processing Record 616 of 639 City Name:  springfield\n",
      "Processing Record 617 of 639 City Name:  antsohihy\n",
      "Processing Record 618 of 639 City Name:  karlstad\n",
      "Processing Record 619 of 639 City Name:  zurrieq\n",
      "Processing Record 620 of 639 City Name:  ambilobe\n",
      "Processing Record 621 of 639 City Name:  kassala\n",
      "Processing Record 622 of 639 City Name:  tambovka\n",
      "Processing Record 623 of 639 City Name:  mildura\n",
      "Processing Record 624 of 639 City Name:  miles city\n",
      "Processing Record 625 of 639 City Name:  santa ana\n",
      "Processing Record 626 of 639 City Name:  jacqueville\n",
      "Processing Record 627 of 639 City Name:  huarmey\n",
      "Processing Record 628 of 639 City Name:  hovd\n",
      "Processing Record 629 of 639 City Name:  dedza\n",
      "Processing Record 630 of 639 City Name:  sahrak\n",
      "City not found. Skipping...\n",
      "Processing Record 631 of 639 City Name:  rocha\n",
      "Processing Record 632 of 639 City Name:  ruatoria\n",
      "City not found. Skipping...\n"
     ]
    },
    {
     "name": "stdout",
     "output_type": "stream",
     "text": [
      "Processing Record 633 of 639 City Name:  olafsvik\n",
      "Processing Record 634 of 639 City Name:  grand forks\n",
      "Processing Record 635 of 639 City Name:  coquimbo\n",
      "Processing Record 636 of 639 City Name:  fatima\n",
      "Processing Record 637 of 639 City Name:  eyl\n",
      "Processing Record 638 of 639 City Name:  wynyard\n",
      "Processing Record 639 of 639 City Name:  doba\n"
     ]
    }
   ],
   "source": [
    "# Loop through the list of cities and perform a request for data on each\n",
    "#params = {\"appid\": api_key, \"units\": units, \"q\": city }\n",
    "C=1\n",
    "for city in cities:\n",
    "    try:\n",
    "        response = requests.get(query_url + city).json()\n",
    "        print( \"Processing Record\", C, \"of\", city_count, \"City Name: \", city )\n",
    "        lat.append(response[\"coord\"][\"lat\"])\n",
    "        lng.append(response[\"coord\"][\"lon\"])\n",
    "        max_temp.append(response[\"main\"][\"temp_max\"])\n",
    "        cloudiness.append(response[\"clouds\"][\"all\"])\n",
    "        wind_speed.append(response[\"wind\"][\"speed\"])\n",
    "        country.append(response[\"sys\"][\"country\"])\n",
    "        date.append(response[\"dt\"])\n",
    "        humidity.append(response[\"main\"][\"humidity\"])\n",
    "        city_name.append(response[\"name\"])\n",
    "    except: \n",
    "        print(\"City not found. Skipping...\")\n",
    "    C=C+1\n",
    "#print(lat)"
   ]
  },
  {
   "cell_type": "code",
   "execution_count": 8,
   "metadata": {},
   "outputs": [
    {
     "name": "stdout",
     "output_type": "stream",
     "text": [
      "592\n",
      "639\n",
      "592\n"
     ]
    }
   ],
   "source": [
    "print(len(city_name))\n",
    "print(len(cities))\n",
    "print(len(humidity))"
   ]
  },
  {
   "cell_type": "markdown",
   "metadata": {},
   "source": [
    "### Convert Raw Data to DataFrame\n",
    "* Export the city data into a .csv.\n",
    "* Display the DataFrame"
   ]
  },
  {
   "cell_type": "code",
   "execution_count": 9,
   "metadata": {},
   "outputs": [
    {
     "data": {
      "text/plain": [
       "City          592\n",
       "Country       592\n",
       "Date          592\n",
       "Max Temp      592\n",
       "Cloudiness    592\n",
       "Wind Speed    592\n",
       "Humidity      592\n",
       "Lng           592\n",
       "Lat           592\n",
       "dtype: int64"
      ]
     },
     "execution_count": 9,
     "metadata": {},
     "output_type": "execute_result"
    }
   ],
   "source": [
    "# creating a Data Frame\n",
    "city_dic = {\n",
    "    \"City\": city_name,\n",
    "    \"Country\": country,\n",
    "    \"Date\": date,\n",
    "    \"Max Temp\": max_temp,\n",
    "    \"Cloudiness\": cloudiness,\n",
    "    \"Wind Speed\": wind_speed,\n",
    "    \"Humidity\": humidity,\n",
    "    \"Lng\": lng,\n",
    "    \"Lat\": lat    \n",
    "}\n",
    "city_data = pd.DataFrame(city_dic)\n",
    "city_data.drop_duplicates\n",
    "city_data.dropna()\n",
    "city_data.isnull().sum() \n",
    "city_data.count()\n"
   ]
  },
  {
   "cell_type": "code",
   "execution_count": 10,
   "metadata": {},
   "outputs": [
    {
     "data": {
      "text/html": [
       "<div>\n",
       "<style scoped>\n",
       "    .dataframe tbody tr th:only-of-type {\n",
       "        vertical-align: middle;\n",
       "    }\n",
       "\n",
       "    .dataframe tbody tr th {\n",
       "        vertical-align: top;\n",
       "    }\n",
       "\n",
       "    .dataframe thead th {\n",
       "        text-align: right;\n",
       "    }\n",
       "</style>\n",
       "<table border=\"1\" class=\"dataframe\">\n",
       "  <thead>\n",
       "    <tr style=\"text-align: right;\">\n",
       "      <th></th>\n",
       "      <th>Date</th>\n",
       "      <th>Max Temp</th>\n",
       "      <th>Cloudiness</th>\n",
       "      <th>Wind Speed</th>\n",
       "      <th>Humidity</th>\n",
       "      <th>Lng</th>\n",
       "      <th>Lat</th>\n",
       "    </tr>\n",
       "  </thead>\n",
       "  <tbody>\n",
       "    <tr>\n",
       "      <th>count</th>\n",
       "      <td>5.920000e+02</td>\n",
       "      <td>592.000000</td>\n",
       "      <td>592.000000</td>\n",
       "      <td>592.000000</td>\n",
       "      <td>592.000000</td>\n",
       "      <td>592.000000</td>\n",
       "      <td>592.000000</td>\n",
       "    </tr>\n",
       "    <tr>\n",
       "      <th>mean</th>\n",
       "      <td>1.651106e+09</td>\n",
       "      <td>16.193986</td>\n",
       "      <td>53.859797</td>\n",
       "      <td>3.450507</td>\n",
       "      <td>70.162162</td>\n",
       "      <td>20.745640</td>\n",
       "      <td>18.408715</td>\n",
       "    </tr>\n",
       "    <tr>\n",
       "      <th>std</th>\n",
       "      <td>1.143745e+02</td>\n",
       "      <td>10.885515</td>\n",
       "      <td>41.458465</td>\n",
       "      <td>2.494984</td>\n",
       "      <td>21.867097</td>\n",
       "      <td>88.527396</td>\n",
       "      <td>33.061173</td>\n",
       "    </tr>\n",
       "    <tr>\n",
       "      <th>min</th>\n",
       "      <td>1.651106e+09</td>\n",
       "      <td>-17.090000</td>\n",
       "      <td>0.000000</td>\n",
       "      <td>0.000000</td>\n",
       "      <td>1.000000</td>\n",
       "      <td>-175.200000</td>\n",
       "      <td>-54.800000</td>\n",
       "    </tr>\n",
       "    <tr>\n",
       "      <th>25%</th>\n",
       "      <td>1.651106e+09</td>\n",
       "      <td>8.135000</td>\n",
       "      <td>8.000000</td>\n",
       "      <td>1.540000</td>\n",
       "      <td>59.000000</td>\n",
       "      <td>-56.470500</td>\n",
       "      <td>-8.719150</td>\n",
       "    </tr>\n",
       "    <tr>\n",
       "      <th>50%</th>\n",
       "      <td>1.651106e+09</td>\n",
       "      <td>17.745000</td>\n",
       "      <td>61.000000</td>\n",
       "      <td>2.915000</td>\n",
       "      <td>76.000000</td>\n",
       "      <td>24.811400</td>\n",
       "      <td>18.709300</td>\n",
       "    </tr>\n",
       "    <tr>\n",
       "      <th>75%</th>\n",
       "      <td>1.651107e+09</td>\n",
       "      <td>25.435000</td>\n",
       "      <td>100.000000</td>\n",
       "      <td>4.685000</td>\n",
       "      <td>86.000000</td>\n",
       "      <td>99.868750</td>\n",
       "      <td>47.430175</td>\n",
       "    </tr>\n",
       "    <tr>\n",
       "      <th>max</th>\n",
       "      <td>1.651107e+09</td>\n",
       "      <td>33.320000</td>\n",
       "      <td>100.000000</td>\n",
       "      <td>14.450000</td>\n",
       "      <td>100.000000</td>\n",
       "      <td>179.316700</td>\n",
       "      <td>78.218600</td>\n",
       "    </tr>\n",
       "  </tbody>\n",
       "</table>\n",
       "</div>"
      ],
      "text/plain": [
       "               Date    Max Temp  Cloudiness  Wind Speed    Humidity  \\\n",
       "count  5.920000e+02  592.000000  592.000000  592.000000  592.000000   \n",
       "mean   1.651106e+09   16.193986   53.859797    3.450507   70.162162   \n",
       "std    1.143745e+02   10.885515   41.458465    2.494984   21.867097   \n",
       "min    1.651106e+09  -17.090000    0.000000    0.000000    1.000000   \n",
       "25%    1.651106e+09    8.135000    8.000000    1.540000   59.000000   \n",
       "50%    1.651106e+09   17.745000   61.000000    2.915000   76.000000   \n",
       "75%    1.651107e+09   25.435000  100.000000    4.685000   86.000000   \n",
       "max    1.651107e+09   33.320000  100.000000   14.450000  100.000000   \n",
       "\n",
       "              Lng         Lat  \n",
       "count  592.000000  592.000000  \n",
       "mean    20.745640   18.408715  \n",
       "std     88.527396   33.061173  \n",
       "min   -175.200000  -54.800000  \n",
       "25%    -56.470500   -8.719150  \n",
       "50%     24.811400   18.709300  \n",
       "75%     99.868750   47.430175  \n",
       "max    179.316700   78.218600  "
      ]
     },
     "execution_count": 10,
     "metadata": {},
     "output_type": "execute_result"
    }
   ],
   "source": [
    "city_data.describe()"
   ]
  },
  {
   "cell_type": "code",
   "execution_count": 11,
   "metadata": {},
   "outputs": [
    {
     "data": {
      "text/html": [
       "<div>\n",
       "<style scoped>\n",
       "    .dataframe tbody tr th:only-of-type {\n",
       "        vertical-align: middle;\n",
       "    }\n",
       "\n",
       "    .dataframe tbody tr th {\n",
       "        vertical-align: top;\n",
       "    }\n",
       "\n",
       "    .dataframe thead th {\n",
       "        text-align: right;\n",
       "    }\n",
       "</style>\n",
       "<table border=\"1\" class=\"dataframe\">\n",
       "  <thead>\n",
       "    <tr style=\"text-align: right;\">\n",
       "      <th></th>\n",
       "      <th>City</th>\n",
       "      <th>Country</th>\n",
       "      <th>Date</th>\n",
       "      <th>Max Temp</th>\n",
       "      <th>Cloudiness</th>\n",
       "      <th>Wind Speed</th>\n",
       "      <th>Humidity</th>\n",
       "      <th>Lng</th>\n",
       "      <th>Lat</th>\n",
       "    </tr>\n",
       "  </thead>\n",
       "  <tbody>\n",
       "    <tr>\n",
       "      <th>587</th>\n",
       "      <td>Coquimbo</td>\n",
       "      <td>CL</td>\n",
       "      <td>1651106624</td>\n",
       "      <td>14.85</td>\n",
       "      <td>0</td>\n",
       "      <td>1.54</td>\n",
       "      <td>82</td>\n",
       "      <td>-71.3436</td>\n",
       "      <td>-29.9533</td>\n",
       "    </tr>\n",
       "    <tr>\n",
       "      <th>588</th>\n",
       "      <td>Fátima</td>\n",
       "      <td>PT</td>\n",
       "      <td>1651106625</td>\n",
       "      <td>11.60</td>\n",
       "      <td>49</td>\n",
       "      <td>1.80</td>\n",
       "      <td>92</td>\n",
       "      <td>-8.6524</td>\n",
       "      <td>39.6207</td>\n",
       "    </tr>\n",
       "    <tr>\n",
       "      <th>589</th>\n",
       "      <td>Eyl</td>\n",
       "      <td>SO</td>\n",
       "      <td>1651106625</td>\n",
       "      <td>27.29</td>\n",
       "      <td>33</td>\n",
       "      <td>2.67</td>\n",
       "      <td>80</td>\n",
       "      <td>49.8164</td>\n",
       "      <td>7.9803</td>\n",
       "    </tr>\n",
       "    <tr>\n",
       "      <th>590</th>\n",
       "      <td>Wynyard</td>\n",
       "      <td>AU</td>\n",
       "      <td>1651106626</td>\n",
       "      <td>18.08</td>\n",
       "      <td>91</td>\n",
       "      <td>4.57</td>\n",
       "      <td>84</td>\n",
       "      <td>145.7167</td>\n",
       "      <td>-41.0000</td>\n",
       "    </tr>\n",
       "    <tr>\n",
       "      <th>591</th>\n",
       "      <td>Doba</td>\n",
       "      <td>TD</td>\n",
       "      <td>1651106626</td>\n",
       "      <td>25.73</td>\n",
       "      <td>100</td>\n",
       "      <td>1.46</td>\n",
       "      <td>66</td>\n",
       "      <td>16.8500</td>\n",
       "      <td>8.6500</td>\n",
       "    </tr>\n",
       "  </tbody>\n",
       "</table>\n",
       "</div>"
      ],
      "text/plain": [
       "         City Country        Date  Max Temp  Cloudiness  Wind Speed  Humidity  \\\n",
       "587  Coquimbo      CL  1651106624     14.85           0        1.54        82   \n",
       "588    Fátima      PT  1651106625     11.60          49        1.80        92   \n",
       "589       Eyl      SO  1651106625     27.29          33        2.67        80   \n",
       "590   Wynyard      AU  1651106626     18.08          91        4.57        84   \n",
       "591      Doba      TD  1651106626     25.73         100        1.46        66   \n",
       "\n",
       "          Lng      Lat  \n",
       "587  -71.3436 -29.9533  \n",
       "588   -8.6524  39.6207  \n",
       "589   49.8164   7.9803  \n",
       "590  145.7167 -41.0000  \n",
       "591   16.8500   8.6500  "
      ]
     },
     "execution_count": 11,
     "metadata": {},
     "output_type": "execute_result"
    }
   ],
   "source": [
    "city_data.tail()"
   ]
  },
  {
   "cell_type": "code",
   "execution_count": 12,
   "metadata": {},
   "outputs": [],
   "source": [
    "# Export the city data into a .csv\n",
    "#city_data.to_csv(output_data_file, index=False)"
   ]
  },
  {
   "cell_type": "markdown",
   "metadata": {},
   "source": [
    "## Inspect the data and remove the cities where the humidity > 100%.\n",
    "----\n",
    "Skip this step if there are no cities that have humidity > 100%. "
   ]
  },
  {
   "cell_type": "code",
   "execution_count": 13,
   "metadata": {},
   "outputs": [
    {
     "name": "stdout",
     "output_type": "stream",
     "text": [
      "count    592.000000\n",
      "mean      70.162162\n",
      "std       21.867097\n",
      "min        1.000000\n",
      "25%       59.000000\n",
      "50%       76.000000\n",
      "75%       86.000000\n",
      "max      100.000000\n",
      "Name: Humidity, dtype: float64 \n",
      "\n",
      "Max humidity is 100%. There are no cities that have humidity>100%\n"
     ]
    }
   ],
   "source": [
    "#  Get the indices of cities that have humidity over 100%.\n",
    "\n",
    "print(city_data['Humidity'].describe() ,\"\\n\")\n",
    "\n",
    "print(\"Max humidity is 100%. There are no cities that have humidity>100%\")"
   ]
  },
  {
   "cell_type": "code",
   "execution_count": 14,
   "metadata": {},
   "outputs": [],
   "source": [
    "# Make a new DataFrame equal to the city data to drop all humidity outliers by index.\n",
    "# Passing \"inplace=False\" will make a copy of the city_data DataFrame, which we call \"clean_city_data\".\n"
   ]
  },
  {
   "cell_type": "markdown",
   "metadata": {},
   "source": [
    "## Plotting the Data\n",
    "* Use proper labeling of the plots using plot titles (including date of analysis) and axes labels.\n",
    "* Save the plotted figures as .pngs."
   ]
  },
  {
   "cell_type": "markdown",
   "metadata": {},
   "source": [
    "## Latitude vs. Temperature Plot"
   ]
  },
  {
   "cell_type": "code",
   "execution_count": 15,
   "metadata": {
    "scrolled": true
   },
   "outputs": [
    {
     "data": {
      "image/png": "[encoded data removed]",
      "text/plain": [
       "<Figure size 720x360 with 1 Axes>"
      ]
     },
     "metadata": {
      "needs_background": "light"
     },
     "output_type": "display_data"
    }
   ],
   "source": [
    "fig = city_data.plot.scatter(x='Lat', y='Max Temp', c='lightblue', figsize=(10,5), edgecolors='black')\n",
    "plt.savefig('City Latitude vs. MaxTemp.png')"
   ]
  },
  {
   "cell_type": "markdown",
   "metadata": {},
   "source": [
    "## Latitude vs. Humidity Plot"
   ]
  },
  {
   "cell_type": "code",
   "execution_count": 16,
   "metadata": {},
   "outputs": [
    {
     "data": {
      "image/png": "[encoded data removed]",
      "text/plain": [
       "<Figure size 720x360 with 1 Axes>"
      ]
     },
     "metadata": {
      "needs_background": "light"
     },
     "output_type": "display_data"
    }
   ],
   "source": [
    "fig2 = city_data.plot.scatter(x='Lat', y='Humidity', c='lightgreen', figsize=(10,5), edgecolors='black')\n",
    "plt.savefig('Latitude vs. Humidity.png')"
   ]
  },
  {
   "cell_type": "markdown",
   "metadata": {},
   "source": [
    "## Latitude vs. Cloudiness Plot"
   ]
  },
  {
   "cell_type": "code",
   "execution_count": 17,
   "metadata": {},
   "outputs": [
    {
     "data": {
      "image/png": "[encoded data removed]",
      "text/plain": [
       "<Figure size 720x360 with 1 Axes>"
      ]
     },
     "metadata": {
      "needs_background": "light"
     },
     "output_type": "display_data"
    }
   ],
   "source": [
    "fig3 = city_data.plot.scatter(x='Lat', y='Cloudiness', c='blue', figsize=(10,5), edgecolors='darkblue')\n",
    "plt.savefig('Latitude vs. Cloudiness.png')"
   ]
  },
  {
   "cell_type": "markdown",
   "metadata": {},
   "source": [
    "## Latitude vs. Wind Speed Plot"
   ]
  },
  {
   "cell_type": "code",
   "execution_count": 18,
   "metadata": {},
   "outputs": [
    {
     "data": {
      "image/png": "[encoded data removed]",
      "text/plain": [
       "<Figure size 720x360 with 1 Axes>"
      ]
     },
     "metadata": {
      "needs_background": "light"
     },
     "output_type": "display_data"
    }
   ],
   "source": [
    "fig3 = city_data.plot.scatter(x='Lat', y='Wind Speed', c='gray', figsize=(10,5), edgecolors='black')\n",
    "plt.savefig('Latitude vs. Wind Speed.png')"
   ]
  },
  {
   "cell_type": "markdown",
   "metadata": {},
   "source": [
    "## Linear Regression"
   ]
  },
  {
   "cell_type": "code",
   "execution_count": 19,
   "metadata": {},
   "outputs": [
    {
     "data": {
      "text/html": [
       "<div>\n",
       "<style scoped>\n",
       "    .dataframe tbody tr th:only-of-type {\n",
       "        vertical-align: middle;\n",
       "    }\n",
       "\n",
       "    .dataframe tbody tr th {\n",
       "        vertical-align: top;\n",
       "    }\n",
       "\n",
       "    .dataframe thead th {\n",
       "        text-align: right;\n",
       "    }\n",
       "</style>\n",
       "<table border=\"1\" class=\"dataframe\">\n",
       "  <thead>\n",
       "    <tr style=\"text-align: right;\">\n",
       "      <th></th>\n",
       "      <th>City</th>\n",
       "      <th>Country</th>\n",
       "      <th>Date</th>\n",
       "      <th>Max Temp</th>\n",
       "      <th>Cloudiness</th>\n",
       "      <th>Wind Speed</th>\n",
       "      <th>Humidity</th>\n",
       "      <th>Lng</th>\n",
       "      <th>Lat</th>\n",
       "    </tr>\n",
       "  </thead>\n",
       "  <tbody>\n",
       "    <tr>\n",
       "      <th>0</th>\n",
       "      <td>Qaanaaq</td>\n",
       "      <td>GL</td>\n",
       "      <td>1651106311</td>\n",
       "      <td>-9.20</td>\n",
       "      <td>83</td>\n",
       "      <td>3.25</td>\n",
       "      <td>70</td>\n",
       "      <td>-69.3632</td>\n",
       "      <td>77.4840</td>\n",
       "    </tr>\n",
       "    <tr>\n",
       "      <th>2</th>\n",
       "      <td>Provideniya</td>\n",
       "      <td>RU</td>\n",
       "      <td>1651106312</td>\n",
       "      <td>-0.91</td>\n",
       "      <td>20</td>\n",
       "      <td>1.00</td>\n",
       "      <td>80</td>\n",
       "      <td>-173.3000</td>\n",
       "      <td>64.3833</td>\n",
       "    </tr>\n",
       "    <tr>\n",
       "      <th>4</th>\n",
       "      <td>Half Moon Bay</td>\n",
       "      <td>US</td>\n",
       "      <td>1651106313</td>\n",
       "      <td>18.45</td>\n",
       "      <td>0</td>\n",
       "      <td>10.29</td>\n",
       "      <td>67</td>\n",
       "      <td>-122.4286</td>\n",
       "      <td>37.4636</td>\n",
       "    </tr>\n",
       "    <tr>\n",
       "      <th>5</th>\n",
       "      <td>Kalmunai</td>\n",
       "      <td>LK</td>\n",
       "      <td>1651106314</td>\n",
       "      <td>26.69</td>\n",
       "      <td>9</td>\n",
       "      <td>2.93</td>\n",
       "      <td>82</td>\n",
       "      <td>81.8167</td>\n",
       "      <td>7.4167</td>\n",
       "    </tr>\n",
       "    <tr>\n",
       "      <th>6</th>\n",
       "      <td>Savannah Bight</td>\n",
       "      <td>HN</td>\n",
       "      <td>1651106314</td>\n",
       "      <td>27.32</td>\n",
       "      <td>56</td>\n",
       "      <td>6.60</td>\n",
       "      <td>76</td>\n",
       "      <td>-85.8500</td>\n",
       "      <td>16.4500</td>\n",
       "    </tr>\n",
       "  </tbody>\n",
       "</table>\n",
       "</div>"
      ],
      "text/plain": [
       "             City Country        Date  Max Temp  Cloudiness  Wind Speed  \\\n",
       "0         Qaanaaq      GL  1651106311     -9.20          83        3.25   \n",
       "2     Provideniya      RU  1651106312     -0.91          20        1.00   \n",
       "4   Half Moon Bay      US  1651106313     18.45           0       10.29   \n",
       "5        Kalmunai      LK  1651106314     26.69           9        2.93   \n",
       "6  Savannah Bight      HN  1651106314     27.32          56        6.60   \n",
       "\n",
       "   Humidity       Lng      Lat  \n",
       "0        70  -69.3632  77.4840  \n",
       "2        80 -173.3000  64.3833  \n",
       "4        67 -122.4286  37.4636  \n",
       "5        82   81.8167   7.4167  \n",
       "6        76  -85.8500  16.4500  "
      ]
     },
     "execution_count": 19,
     "metadata": {},
     "output_type": "execute_result"
    }
   ],
   "source": [
    "# New data frame for northern hemisphere\n",
    "city_data_north = city_data[city_data['Lat'] >= 0]\n",
    "\n",
    "#weather_data_north.count()\n",
    "\n",
    "# New data frame for southern hemisphere\n",
    "city_data_south = city_data[city_data['Lat'] < 0]\n",
    "\n",
    "city_data_north.head()"
   ]
  },
  {
   "cell_type": "markdown",
   "metadata": {},
   "source": [
    "####  Northern Hemisphere - Max Temp vs. Latitude Linear Regression"
   ]
  },
  {
   "cell_type": "code",
   "execution_count": 28,
   "metadata": {},
   "outputs": [
    {
     "data": {
      "image/png": "[encoded data removed]",
      "text/plain": [
       "<Figure size 432x288 with 1 Axes>"
      ]
     },
     "metadata": {
      "needs_background": "light"
     },
     "output_type": "display_data"
    }
   ],
   "source": [
    "cdn_x_values = city_data_north['Max Temp']\n",
    "cdn_y_values = city_data_north['Lat']\n",
    "(slope, intercept, rvalue, pvalue, stderr) = linregress(cdn_x_values, cdn_y_values)\n",
    "regress_values = cdn_x_values * slope + intercept\n",
    "line_eq = \"y = \" + str(round(slope,2)) + \"x + \" + str(round(intercept,2))\n",
    "plt.scatter(cdn_x_values,cdn_y_values)\n",
    "plt.plot(cdn_x_values,regress_values,\"r-\")\n",
    "plt.annotate(line_eq,(5.8,0.8),fontsize=15,color=\"red\")\n",
    "plt.xlabel('Northern Hemisphere - Max Temp ')\n",
    "plt.ylabel('Northern Hemisphere - Latitude  ')\n",
    "plt.show()\n"
   ]
  },
  {
   "cell_type": "markdown",
   "metadata": {},
   "source": [
    "####  Southern Hemisphere - Max Temp vs. Latitude Linear Regression"
   ]
  },
  {
   "cell_type": "code",
   "execution_count": 29,
   "metadata": {},
   "outputs": [
    {
     "data": {
      "image/png": "[encoded data removed]",
      "text/plain": [
       "<Figure size 432x288 with 1 Axes>"
      ]
     },
     "metadata": {
      "needs_background": "light"
     },
     "output_type": "display_data"
    }
   ],
   "source": [
    "cds_x_values = city_data_south['Max Temp']\n",
    "cds_y_values = city_data_south['Lat']\n",
    "(slope, intercept, rvalue, pvalue, stderr) = linregress(cds_x_values, cds_y_values)\n",
    "regress_values = cds_x_values * slope + intercept\n",
    "line_eq = \"y = \" + str(round(slope,2)) + \"x + \" + str(round(intercept,2))\n",
    "plt.scatter(cds_x_values,cds_y_values)\n",
    "plt.plot(cds_x_values,regress_values,\"r-\")\n",
    "plt.annotate(line_eq,(5.8,0.8),fontsize=15,color=\"red\")\n",
    "plt.xlabel('Souther Hemisphere - Max Temp ')\n",
    "plt.ylabel('Southern Hemisphere - Latitude  ')\n",
    "plt.show()"
   ]
  },
  {
   "cell_type": "markdown",
   "metadata": {},
   "source": [
    "####  Northern Hemisphere - Humidity (%) vs. Latitude Linear Regression"
   ]
  },
  {
   "cell_type": "code",
   "execution_count": 30,
   "metadata": {},
   "outputs": [
    {
     "data": {
      "image/png": "[encoded data removed]",
      "text/plain": [
       "<Figure size 432x288 with 1 Axes>"
      ]
     },
     "metadata": {
      "needs_background": "light"
     },
     "output_type": "display_data"
    }
   ],
   "source": [
    "hln_x_values = city_data_north['Humidity']\n",
    "hln_y_values = city_data_north['Lat']\n",
    "(slope, intercept, rvalue, pvalue, stderr) = linregress(hln_x_values, hln_y_values)\n",
    "regress_values = hln_x_values * slope + intercept\n",
    "line_eq = \"y = \" + str(round(slope,2)) + \"x + \" + str(round(intercept,2))\n",
    "plt.scatter(hln_x_values,hln_y_values)\n",
    "plt.plot(hln_x_values,regress_values,\"r-\")\n",
    "plt.annotate(line_eq,(5.8,0.8),fontsize=15,color=\"red\")\n",
    "plt.xlabel('Northern Hemisphere - Humidity ')\n",
    "plt.ylabel('Northern Hemisphere - Latitude  ')\n",
    "plt.show()"
   ]
  },
  {
   "cell_type": "markdown",
   "metadata": {},
   "source": [
    "####  Southern Hemisphere - Humidity (%) vs. Latitude Linear Regression"
   ]
  },
  {
   "cell_type": "code",
   "execution_count": 33,
   "metadata": {},
   "outputs": [
    {
     "data": {
      "image/png": "[encoded data removed]",
      "text/plain": [
       "<Figure size 432x288 with 1 Axes>"
      ]
     },
     "metadata": {
      "needs_background": "light"
     },
     "output_type": "display_data"
    }
   ],
   "source": [
    "hls_x_values = city_data_south['Humidity']\n",
    "hls_y_values = city_data_south['Lat']\n",
    "(slope, intercept, rvalue, pvalue, stderr) = linregress(hls_x_values, hls_y_values)\n",
    "regress_values = hls_x_values * slope + intercept\n",
    "line_eq = \"y = \" + str(round(slope,2)) + \"x + \" + str(round(intercept,2))\n",
    "plt.scatter(hls_x_values, hls_y_values)\n",
    "plt.plot(hls_x_values,regress_values,\"r-\")\n",
    "plt.annotate(line_eq,(5.8,0.8),fontsize=15,color=\"red\")\n",
    "plt.xlabel('Southern Hemisphere - Humidity ')\n",
    "plt.ylabel('Southern Hemisphere - Latitude  ')\n",
    "plt.show()"
   ]
  },
  {
   "cell_type": "markdown",
   "metadata": {},
   "source": [
    "####  Northern Hemisphere - Cloudiness (%) vs. Latitude Linear Regression"
   ]
  },
  {
   "cell_type": "code",
   "execution_count": 34,
   "metadata": {},
   "outputs": [
    {
     "data": {
      "image/png": "[encoded data removed]",
      "text/plain": [
       "<Figure size 432x288 with 1 Axes>"
      ]
     },
     "metadata": {
      "needs_background": "light"
     },
     "output_type": "display_data"
    }
   ],
   "source": [
    "cln_x_values = city_data_north['Cloudiness']\n",
    "cln_y_values = city_data_north['Lat']\n",
    "(slope, intercept, rvalue, pvalue, stderr) = linregress(cln_x_values, cln_y_values)\n",
    "regress_values = cln_x_values * slope + intercept\n",
    "line_eq = \"y = \" + str(round(slope,2)) + \"x + \" + str(round(intercept,2))\n",
    "plt.scatter(cln_x_values,cln_y_values)\n",
    "plt.plot(cln_x_values,regress_values,\"r-\")\n",
    "plt.annotate(line_eq,(5.8,0.8),fontsize=15,color=\"red\")\n",
    "plt.xlabel('Northern Hemisphere - Cloudiness ')\n",
    "plt.ylabel('Northern Hemisphere - Latitude  ')\n",
    "plt.show()"
   ]
  },
  {
   "cell_type": "markdown",
   "metadata": {},
   "source": [
    "####  Southern Hemisphere - Cloudiness (%) vs. Latitude Linear Regression"
   ]
  },
  {
   "cell_type": "code",
   "execution_count": 35,
   "metadata": {},
   "outputs": [
    {
     "data": {
      "image/png": "[encoded data removed]",
      "text/plain": [
       "<Figure size 432x288 with 1 Axes>"
      ]
     },
     "metadata": {
      "needs_background": "light"
     },
     "output_type": "display_data"
    }
   ],
   "source": [
    "sln_x_values = city_data_south['Cloudiness']\n",
    "sln_y_values = city_data_south['Lat']\n",
    "(slope, intercept, rvalue, pvalue, stderr) = linregress(sln_x_values, sln_y_values)\n",
    "regress_values = sln_x_values * slope + intercept\n",
    "line_eq = \"y = \" + str(round(slope,2)) + \"x + \" + str(round(intercept,2))\n",
    "plt.scatter(sln_x_values, sln_y_values)\n",
    "plt.plot(sln_x_values, regress_values,\"r-\")\n",
    "plt.annotate(line_eq,(5.8,0.8),fontsize=15,color=\"red\")\n",
    "plt.xlabel('Southern Hemisphere - Cloudiness ')\n",
    "plt.ylabel('Southern Hemisphere - Latitude  ')\n",
    "plt.show()"
   ]
  },
  {
   "cell_type": "markdown",
   "metadata": {},
   "source": [
    "####  Northern Hemisphere - Wind Speed (mph) vs. Latitude Linear Regression"
   ]
  },
  {
   "cell_type": "code",
   "execution_count": 36,
   "metadata": {},
   "outputs": [
    {
     "data": {
      "image/png": "[encoded data removed]",
      "text/plain": [
       "<Figure size 432x288 with 1 Axes>"
      ]
     },
     "metadata": {
      "needs_background": "light"
     },
     "output_type": "display_data"
    }
   ],
   "source": [
    "wln_x_values = city_data_north['Wind Speed']\n",
    "wln_y_values = city_data_north['Lat']\n",
    "(slope, intercept, rvalue, pvalue, stderr) = linregress(wln_x_values, wln_y_values)\n",
    "regress_values = wln_x_values * slope + intercept\n",
    "line_eq = \"y = \" + str(round(slope,2)) + \"x + \" + str(round(intercept,2))\n",
    "plt.scatter(wln_x_values, wln_y_values)\n",
    "plt.plot(wln_x_values,regress_values,\"r-\")\n",
    "plt.annotate(line_eq,(5.8,0.8),fontsize=15,color=\"red\")\n",
    "plt.xlabel('Northern Hemisphere - Wind Speed ')\n",
    "plt.ylabel('Northern Hemisphere - Latitude  ')\n",
    "plt.show()"
   ]
  },
  {
   "cell_type": "markdown",
   "metadata": {},
   "source": [
    "####  Southern Hemisphere - Wind Speed (mph) vs. Latitude Linear Regression"
   ]
  },
  {
   "cell_type": "code",
   "execution_count": 37,
   "metadata": {},
   "outputs": [
    {
     "data": {
      "image/png": "[encoded data removed]",
      "text/plain": [
       "<Figure size 432x288 with 1 Axes>"
      ]
     },
     "metadata": {
      "needs_background": "light"
     },
     "output_type": "display_data"
    }
   ],
   "source": [
    "wls_x_values = city_data_south['Wind Speed']\n",
    "wls_y_values = city_data_south['Lat']\n",
    "(slope, intercept, rvalue, pvalue, stderr) = linregress(wls_x_values, wls_y_values)\n",
    "regress_values = wls_x_values * slope + intercept\n",
    "line_eq = \"y = \" + str(round(slope,2)) + \"x + \" + str(round(intercept,2))\n",
    "plt.scatter(wls_x_values, wls_y_values)\n",
    "plt.plot(wls_x_values,regress_values,\"r-\")\n",
    "plt.annotate(line_eq,(5.8,0.8),fontsize=15,color=\"red\")\n",
    "plt.xlabel('Southern Hemisphere - Wind Speed ')\n",
    "plt.ylabel('Southern Hemisphere - Latitude  ')\n",
    "plt.show()"
   ]
  }
 ],
 "metadata": {
  "anaconda-cloud": {},
  "kernel_info": {
   "name": "python3"
  },
  "kernelspec": {
   "display_name": "Python 3 (ipykernel)",
   "language": "python",
   "name": "python3"
  },
  "language_info": {
   "codemirror_mode": {
    "name": "ipython",
    "version": 3
   },
   "file_extension": ".py",
   "mimetype": "text/x-python",
   "name": "python",
   "nbconvert_exporter": "python",
   "pygments_lexer": "ipython3",
   "version": "3.9.7"
  },
  "latex_envs": {
   "LaTeX_envs_menu_present": true,
   "autoclose": false,
   "autocomplete": true,
   "bibliofile": "biblio.bib",
   "cite_by": "apalike",
   "current_citInitial": 1,
   "eqLabelWithNumbers": true,
   "eqNumInitial": 1,
   "hotkeys": {
    "equation": "Ctrl-E",
    "itemize": "Ctrl-I"
   },
   "labels_anchors": false,
   "latex_user_defs": false,
   "report_style_numbering": false,
   "user_envs_cfg": false
  },
  "nteract": {
   "version": "0.12.3"
  }
 },
 "nbformat": 4,
 "nbformat_minor": 2
}
