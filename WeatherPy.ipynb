{
 "cells": [
  {
   "cell_type": "markdown",
   "metadata": {},
   "source": [
    "# WeatherPy\n",
    "----\n",
    "\n",
    "#### Note\n",
    "* Instructions have been included for each segment. You do not have to follow them exactly, but they are included to help you think through the steps."
   ]
  },
  {
   "cell_type": "markdown",
   "metadata": {},
   "source": [
    "## Generate Cities List"
   ]
  },
  {
   "cell_type": "code",
   "execution_count": 1,
   "metadata": {},
   "outputs": [],
   "source": [
    "# Dependencies and Setup\n",
    "import matplotlib.pyplot as plt\n",
    "import pandas as pd\n",
    "import numpy as np\n",
    "import requests\n",
    "import json\n",
    "import time\n",
    "from scipy.stats import linregress\n",
    "\n",
    "# Import API key\n",
    "from api_keys import weather_api_key\n",
    "api_key = weather_api_key\n",
    "# Incorporated citipy to determine city based on latitude and longitude\n",
    "from citipy import citipy\n",
    "\n",
    "# Output File (CSV)\n",
    "output_data_file = \"output_data/cities.csv\"\n",
    "\n",
    "# Range of latitudes and longitudes\n",
    "lat_range = (-90, 90)\n",
    "lng_range = (-180, 180)"
   ]
  },
  {
   "cell_type": "code",
   "execution_count": 2,
   "metadata": {},
   "outputs": [
    {
     "data": {
      "text/plain": [
       "605"
      ]
     },
     "execution_count": 2,
     "metadata": {},
     "output_type": "execute_result"
    }
   ],
   "source": [
    "# List for holding lat_lngs and cities\n",
    "lat_lngs = []\n",
    "cities = []\n",
    "\n",
    "# Create a set of random lat and lng combinations\n",
    "lats = np.random.uniform(lat_range[0], lat_range[1], size=1500)\n",
    "lngs = np.random.uniform(lng_range[0], lng_range[1], size=1500)\n",
    "lat_lngs = zip(lats, lngs)\n",
    "\n",
    "# Identify nearest city for each lat, lng combination\n",
    "for lat_lng in lat_lngs:\n",
    "    city = citipy.nearest_city(lat_lng[0], lat_lng[1]).city_name\n",
    "    \n",
    "    # If the city is unique, then add it to a our cities list\n",
    "    if city not in cities:\n",
    "        cities.append(city)\n",
    "\n",
    "# Print the city count to confirm sufficient count\n",
    "city_count=len(cities)\n",
    "city_count"
   ]
  },
  {
   "cell_type": "code",
   "execution_count": 3,
   "metadata": {},
   "outputs": [],
   "source": [
    "# Save config information.\n",
    "url = \"http://api.openweathermap.org/data/2.5/weather?\"\n",
    "units = \"metric\"\n",
    "params1 = {\"appid\": api_key, \"units\": units, \"q\": city }"
   ]
  },
  {
   "cell_type": "code",
   "execution_count": 4,
   "metadata": {},
   "outputs": [
    {
     "name": "stdout",
     "output_type": "stream",
     "text": [
      "http://api.openweathermap.org/data/2.5/weather?appid=f1896ef9774eec1e5c2ba62805c4b461&units=metric&q=Irvine\n",
      "[\n",
      "  {\n",
      "    \"coord\": {\n",
      "      \"lon\": -34.8339,\n",
      "      \"lat\": -6.9811\n",
      "    },\n",
      "    \"weather\": [\n",
      "      {\n",
      "        \"id\": 804,\n",
      "        \"main\": \"Clouds\",\n",
      "        \"description\": \"overcast clouds\",\n",
      "        \"icon\": \"04n\"\n",
      "      }\n",
      "    ],\n",
      "    \"base\": \"stations\",\n",
      "    \"main\": {\n",
      "      \"temp\": 27.37,\n",
      "      \"feels_like\": 30.02,\n",
      "      \"temp_min\": 27.37,\n",
      "      \"temp_max\": 27.37,\n",
      "      \"pressure\": 1011,\n",
      "      \"humidity\": 75,\n",
      "      \"sea_level\": 1011,\n",
      "      \"grnd_level\": 1010\n",
      "    },\n",
      "    \"visibility\": 10000,\n",
      "    \"wind\": {\n",
      "      \"speed\": 6.87,\n",
      "      \"deg\": 152,\n",
      "      \"gust\": 8.99\n",
      "    },\n",
      "    \"clouds\": {\n",
      "      \"all\": 100\n",
      "    },\n",
      "    \"dt\": 1651350334,\n",
      "    \"sys\": {\n",
      "      \"type\": 1,\n",
      "      \"id\": 8391,\n",
      "      \"country\": \"BR\",\n",
      "      \"sunrise\": 1651306824,\n",
      "      \"sunset\": 1651349550\n",
      "    },\n",
      "    \"timezone\": -10800,\n",
      "    \"id\": 3404558,\n",
      "    \"name\": \"Cabedelo\",\n",
      "    \"cod\": 200\n",
      "  }\n",
      "]\n",
      "Id========== 3404558\n"
     ]
    }
   ],
   "source": [
    "#Test\n",
    "\n",
    "city=\"Irvine\"\n",
    "\n",
    "# Build partial query URL\n",
    "query_url = f\"{url}appid={api_key}&units={units}&q=\"\n",
    "response1 = requests.get(query_url + city).json()\n",
    "print(query_url + city)\n",
    "\n",
    "\n",
    "response2 = requests.get(url, params=params1).json()\n",
    "#print(response2.url)\n",
    "\n",
    "\n",
    "name_test=response2[\"name\"]\n",
    "id_test= response2[\"id\"]\n",
    "\n",
    "print(json.dumps([response2], indent=2))\n",
    "\n",
    "print(\"Id==========\", id_test)"
   ]
  },
  {
   "cell_type": "code",
   "execution_count": 5,
   "metadata": {},
   "outputs": [
    {
     "name": "stdout",
     "output_type": "stream",
     "text": [
      "-6.9811\n",
      "cld 100\n",
      "1651350334\n"
     ]
    }
   ],
   "source": [
    "#test 2\n",
    "name_test=response2[\"name\"]\n",
    "id_test= response2[\"id\"]\n",
    "#print(\"Id==========\", id_test)\n",
    "\n",
    " #Main main\": {\n",
    "#      \"temp\": 18.19,\n",
    "#      \"feels_like\": 17.55,\n",
    "#      \"temp_min\": 15.75,\n",
    "#      \"temp_max\": 21.48,\n",
    "#      \"pressure\": 1017,\n",
    "#      \"humidity\": 57\n",
    "lon_test = response2[\"coord\"][\"lon\"]\n",
    "lat_test = response2[\"coord\"][\"lat\"]\n",
    "print(lat_test)\n",
    "\n",
    "temp = response2[\"main\"][\"temp_max\"]\n",
    "humidity_test = response2[\"main\"][\"humidity\"]\n",
    "cld_test = response2[\"clouds\"][\"all\"]\n",
    "print(\"cld\", cld_test)\n",
    "wind_speed = response2[\"wind\"][\"speed\"]\n",
    "country = response2 [\"sys\"][\"country\"]\n",
    "\n",
    "date_test = response2[\"dt\"]\n",
    "print(date_test)"
   ]
  },
  {
   "cell_type": "markdown",
   "metadata": {},
   "source": [
    "# Perform API Calls\n",
    "* Perform a weather check on each city using a series of successive API calls.\n",
    "* Include a print log of each city as it'sbeing processed (with the city number and city name).\n"
   ]
  },
  {
   "cell_type": "code",
   "execution_count": 6,
   "metadata": {},
   "outputs": [],
   "source": [
    "lat = []\n",
    "lng = []\n",
    "max_temp = []\n",
    "cloudiness = []\n",
    "wind_speed = []\n",
    "country = []\n",
    "date = []\n",
    "humidity = []\n",
    "city_name = []"
   ]
  },
  {
   "cell_type": "code",
   "execution_count": 7,
   "metadata": {},
   "outputs": [
    {
     "name": "stdout",
     "output_type": "stream",
     "text": [
      "Processing Record 1 of 605 City Name:  hermanus\n",
      "Processing Record 2 of 605 City Name:  taolanaro\n",
      "City not found. Skipping...\n",
      "Processing Record 3 of 605 City Name:  impfondo\n",
      "Processing Record 4 of 605 City Name:  rikitea\n",
      "Processing Record 5 of 605 City Name:  port alfred\n",
      "Processing Record 6 of 605 City Name:  emba\n",
      "Processing Record 7 of 605 City Name:  san patricio\n",
      "Processing Record 8 of 605 City Name:  qianan\n",
      "Processing Record 9 of 605 City Name:  klaksvik\n",
      "Processing Record 10 of 605 City Name:  kavaratti\n",
      "Processing Record 11 of 605 City Name:  punta arenas\n",
      "Processing Record 12 of 605 City Name:  plouzane\n",
      "Processing Record 13 of 605 City Name:  varzelandia\n",
      "Processing Record 14 of 605 City Name:  aswan\n",
      "Processing Record 15 of 605 City Name:  cabo san lucas\n",
      "Processing Record 16 of 605 City Name:  torbay\n",
      "Processing Record 17 of 605 City Name:  castro\n",
      "Processing Record 18 of 605 City Name:  provideniya\n",
      "Processing Record 19 of 605 City Name:  neuquen\n",
      "Processing Record 20 of 605 City Name:  atuona\n",
      "Processing Record 21 of 605 City Name:  sentyabrskiy\n",
      "City not found. Skipping...\n",
      "Processing Record 22 of 605 City Name:  saskylakh\n",
      "Processing Record 23 of 605 City Name:  naze\n",
      "Processing Record 24 of 605 City Name:  qaanaaq\n",
      "Processing Record 25 of 605 City Name:  dakar\n",
      "Processing Record 26 of 605 City Name:  metro\n",
      "Processing Record 27 of 605 City Name:  jiddah\n",
      "City not found. Skipping...\n",
      "Processing Record 28 of 605 City Name:  ponta do sol\n",
      "Processing Record 29 of 605 City Name:  saint-philippe\n",
      "Processing Record 30 of 605 City Name:  busselton\n",
      "Processing Record 31 of 605 City Name:  luderitz\n",
      "Processing Record 32 of 605 City Name:  pusad\n",
      "Processing Record 33 of 605 City Name:  ancud\n",
      "Processing Record 34 of 605 City Name:  tabou\n",
      "Processing Record 35 of 605 City Name:  ankara\n",
      "Processing Record 36 of 605 City Name:  butaritari\n",
      "Processing Record 37 of 605 City Name:  codrington\n",
      "Processing Record 38 of 605 City Name:  geraldton\n",
      "Processing Record 39 of 605 City Name:  arraial do cabo\n",
      "Processing Record 40 of 605 City Name:  sao gabriel da cachoeira\n",
      "Processing Record 41 of 605 City Name:  carnarvon\n",
      "Processing Record 42 of 605 City Name:  guerrero negro\n",
      "Processing Record 43 of 605 City Name:  ushuaia\n",
      "Processing Record 44 of 605 City Name:  itaqui\n",
      "Processing Record 45 of 605 City Name:  denpasar\n",
      "Processing Record 46 of 605 City Name:  avarua\n",
      "Processing Record 47 of 605 City Name:  lompoc\n",
      "Processing Record 48 of 605 City Name:  ruteng\n",
      "Processing Record 49 of 605 City Name:  solnechnyy\n",
      "Processing Record 50 of 605 City Name:  smidovich\n",
      "Processing Record 51 of 605 City Name:  albany\n",
      "Processing Record 52 of 605 City Name:  chokurdakh\n",
      "Processing Record 53 of 605 City Name:  longyearbyen\n",
      "Processing Record 54 of 605 City Name:  airai\n",
      "Processing Record 55 of 605 City Name:  tasiilaq\n",
      "Processing Record 56 of 605 City Name:  vila franca do campo\n",
      "Processing Record 57 of 605 City Name:  batemans bay\n",
      "Processing Record 58 of 605 City Name:  kabompo\n",
      "Processing Record 59 of 605 City Name:  luohe\n",
      "Processing Record 60 of 605 City Name:  puerto ayora\n",
      "Processing Record 61 of 605 City Name:  yumen\n",
      "Processing Record 62 of 605 City Name:  dikson\n",
      "Processing Record 63 of 605 City Name:  saint george\n",
      "Processing Record 64 of 605 City Name:  tuburan\n",
      "Processing Record 65 of 605 City Name:  kattivakkam\n",
      "Processing Record 66 of 605 City Name:  roald\n",
      "Processing Record 67 of 605 City Name:  barrow\n",
      "Processing Record 68 of 605 City Name:  mentok\n",
      "City not found. Skipping...\n",
      "Processing Record 69 of 605 City Name:  kerema\n",
      "Processing Record 70 of 605 City Name:  smirnykh\n",
      "Processing Record 71 of 605 City Name:  eyl\n",
      "Processing Record 72 of 605 City Name:  chemodanovka\n",
      "Processing Record 73 of 605 City Name:  ust-barguzin\n",
      "Processing Record 74 of 605 City Name:  kaitangata\n",
      "Processing Record 75 of 605 City Name:  mataura\n",
      "Processing Record 76 of 605 City Name:  cherskiy\n",
      "Processing Record 77 of 605 City Name:  cidreira\n",
      "Processing Record 78 of 605 City Name:  ayan\n",
      "Processing Record 79 of 605 City Name:  tuatapere\n",
      "Processing Record 80 of 605 City Name:  coquimbo\n",
      "Processing Record 81 of 605 City Name:  iqaluit\n",
      "Processing Record 82 of 605 City Name:  jieshi\n",
      "Processing Record 83 of 605 City Name:  kapaa\n",
      "Processing Record 84 of 605 City Name:  belushya guba\n",
      "City not found. Skipping...\n",
      "Processing Record 85 of 605 City Name:  okhotsk\n",
      "Processing Record 86 of 605 City Name:  east london\n",
      "Processing Record 87 of 605 City Name:  myskhako\n",
      "Processing Record 88 of 605 City Name:  hilo\n",
      "Processing Record 89 of 605 City Name:  taraza\n",
      "Processing Record 90 of 605 City Name:  bambous virieux\n",
      "Processing Record 91 of 605 City Name:  ostrovnoy\n",
      "Processing Record 92 of 605 City Name:  lagoa\n",
      "Processing Record 93 of 605 City Name:  tiznit\n",
      "Processing Record 94 of 605 City Name:  georgetown\n",
      "Processing Record 95 of 605 City Name:  fortuna\n",
      "Processing Record 96 of 605 City Name:  warqla\n",
      "City not found. Skipping...\n",
      "Processing Record 97 of 605 City Name:  whitianga\n",
      "Processing Record 98 of 605 City Name:  magadan\n",
      "Processing Record 99 of 605 City Name:  jinchang\n",
      "Processing Record 100 of 605 City Name:  domoni\n",
      "Processing Record 101 of 605 City Name:  bredasdorp\n",
      "Processing Record 102 of 605 City Name:  oranjemund\n",
      "Processing Record 103 of 605 City Name:  yellowknife\n",
      "Processing Record 104 of 605 City Name:  samusu\n",
      "City not found. Skipping...\n",
      "Processing Record 105 of 605 City Name:  aquiraz\n",
      "Processing Record 106 of 605 City Name:  kalabo\n",
      "Processing Record 107 of 605 City Name:  ozgon\n",
      "City not found. Skipping...\n",
      "Processing Record 108 of 605 City Name:  sogdiondon\n",
      "City not found. Skipping...\n",
      "Processing Record 109 of 605 City Name:  morant bay\n",
      "Processing Record 110 of 605 City Name:  ilulissat\n",
      "Processing Record 111 of 605 City Name:  alexandria\n",
      "Processing Record 112 of 605 City Name:  kaihua\n",
      "Processing Record 113 of 605 City Name:  mahebourg\n",
      "Processing Record 114 of 605 City Name:  mar del plata\n",
      "Processing Record 115 of 605 City Name:  pekalongan\n",
      "Processing Record 116 of 605 City Name:  lichinga\n",
      "Processing Record 117 of 605 City Name:  zhigansk\n",
      "Processing Record 118 of 605 City Name:  barentsburg\n",
      "City not found. Skipping...\n",
      "Processing Record 119 of 605 City Name:  ambunti\n",
      "Processing Record 120 of 605 City Name:  khandyga\n",
      "Processing Record 121 of 605 City Name:  polson\n",
      "Processing Record 122 of 605 City Name:  pangnirtung\n",
      "Processing Record 123 of 605 City Name:  caravelas\n",
      "Processing Record 124 of 605 City Name:  hobart\n",
      "Processing Record 125 of 605 City Name:  doctor pedro p. pena\n",
      "City not found. Skipping...\n",
      "Processing Record 126 of 605 City Name:  richards bay\n",
      "Processing Record 127 of 605 City Name:  gushikawa\n",
      "Processing Record 128 of 605 City Name:  kodiak\n",
      "Processing Record 129 of 605 City Name:  nome\n",
      "Processing Record 130 of 605 City Name:  alofi\n",
      "Processing Record 131 of 605 City Name:  opuwo\n",
      "Processing Record 132 of 605 City Name:  ayolas\n",
      "Processing Record 133 of 605 City Name:  celestun\n",
      "Processing Record 134 of 605 City Name:  xichang\n",
      "Processing Record 135 of 605 City Name:  klyuchi\n",
      "Processing Record 136 of 605 City Name:  nara\n",
      "Processing Record 137 of 605 City Name:  coihaique\n",
      "Processing Record 138 of 605 City Name:  saldanha\n",
      "Processing Record 139 of 605 City Name:  kodinar\n",
      "Processing Record 140 of 605 City Name:  margate\n",
      "Processing Record 141 of 605 City Name:  koulamoutou\n",
      "Processing Record 142 of 605 City Name:  kondinskoye\n",
      "Processing Record 143 of 605 City Name:  domanivka\n",
      "Processing Record 144 of 605 City Name:  zachagansk\n",
      "City not found. Skipping...\n",
      "Processing Record 145 of 605 City Name:  bluff\n",
      "Processing Record 146 of 605 City Name:  tuktoyaktuk\n",
      "Processing Record 147 of 605 City Name:  broken hill\n",
      "Processing Record 148 of 605 City Name:  midland\n",
      "Processing Record 149 of 605 City Name:  bengkulu\n",
      "Processing Record 150 of 605 City Name:  abu kamal\n",
      "Processing Record 151 of 605 City Name:  amderma\n",
      "City not found. Skipping...\n",
      "Processing Record 152 of 605 City Name:  aasiaat\n",
      "Processing Record 153 of 605 City Name:  port hardy\n",
      "Processing Record 154 of 605 City Name:  estelle\n",
      "Processing Record 155 of 605 City Name:  qarchi gak\n",
      "Processing Record 156 of 605 City Name:  buala\n",
      "Processing Record 157 of 605 City Name:  khorinsk\n",
      "Processing Record 158 of 605 City Name:  karratha\n"
     ]
    },
    {
     "name": "stdout",
     "output_type": "stream",
     "text": [
      "Processing Record 159 of 605 City Name:  clyde river\n",
      "Processing Record 160 of 605 City Name:  cape town\n",
      "Processing Record 161 of 605 City Name:  mariental\n",
      "Processing Record 162 of 605 City Name:  ribeira grande\n",
      "Processing Record 163 of 605 City Name:  hofu\n",
      "Processing Record 164 of 605 City Name:  new norfolk\n",
      "Processing Record 165 of 605 City Name:  san cristobal\n",
      "Processing Record 166 of 605 City Name:  shakawe\n",
      "Processing Record 167 of 605 City Name:  bathurst\n",
      "Processing Record 168 of 605 City Name:  laredo\n",
      "Processing Record 169 of 605 City Name:  norman wells\n",
      "Processing Record 170 of 605 City Name:  trincomalee\n",
      "Processing Record 171 of 605 City Name:  mabaruma\n",
      "Processing Record 172 of 605 City Name:  buckeye\n",
      "Processing Record 173 of 605 City Name:  yulara\n",
      "Processing Record 174 of 605 City Name:  ponta delgada\n",
      "Processing Record 175 of 605 City Name:  nelson bay\n",
      "Processing Record 176 of 605 City Name:  bethel\n",
      "Processing Record 177 of 605 City Name:  mao\n",
      "Processing Record 178 of 605 City Name:  asau\n",
      "Processing Record 179 of 605 City Name:  bijawar\n",
      "Processing Record 180 of 605 City Name:  lata\n",
      "Processing Record 181 of 605 City Name:  rabo de peixe\n",
      "Processing Record 182 of 605 City Name:  vestmannaeyjar\n",
      "Processing Record 183 of 605 City Name:  constitucion\n",
      "Processing Record 184 of 605 City Name:  batagay-alyta\n",
      "Processing Record 185 of 605 City Name:  noumea\n",
      "Processing Record 186 of 605 City Name:  illoqqortoormiut\n",
      "City not found. Skipping...\n",
      "Processing Record 187 of 605 City Name:  wasilla\n",
      "Processing Record 188 of 605 City Name:  tari\n",
      "Processing Record 189 of 605 City Name:  tsihombe\n",
      "City not found. Skipping...\n",
      "Processing Record 190 of 605 City Name:  portland\n",
      "Processing Record 191 of 605 City Name:  vibo valentia\n",
      "Processing Record 192 of 605 City Name:  xai-xai\n",
      "Processing Record 193 of 605 City Name:  venado tuerto\n",
      "Processing Record 194 of 605 City Name:  aksu\n",
      "Processing Record 195 of 605 City Name:  shieli\n",
      "Processing Record 196 of 605 City Name:  labuhan\n",
      "Processing Record 197 of 605 City Name:  bay roberts\n",
      "Processing Record 198 of 605 City Name:  san carlos de bariloche\n",
      "Processing Record 199 of 605 City Name:  mangrol\n",
      "Processing Record 200 of 605 City Name:  lahaina\n",
      "Processing Record 201 of 605 City Name:  lebu\n",
      "Processing Record 202 of 605 City Name:  jamestown\n",
      "Processing Record 203 of 605 City Name:  rayagada\n",
      "Processing Record 204 of 605 City Name:  lexington park\n",
      "Processing Record 205 of 605 City Name:  umzimvubu\n",
      "City not found. Skipping...\n",
      "Processing Record 206 of 605 City Name:  vaini\n",
      "Processing Record 207 of 605 City Name:  nishihara\n",
      "Processing Record 208 of 605 City Name:  hithadhoo\n",
      "Processing Record 209 of 605 City Name:  ronne\n",
      "Processing Record 210 of 605 City Name:  tautira\n",
      "Processing Record 211 of 605 City Name:  horta\n",
      "Processing Record 212 of 605 City Name:  alice springs\n",
      "Processing Record 213 of 605 City Name:  comitancillo\n",
      "Processing Record 214 of 605 City Name:  podgornoye\n",
      "Processing Record 215 of 605 City Name:  mehriz\n",
      "Processing Record 216 of 605 City Name:  fort-shevchenko\n",
      "Processing Record 217 of 605 City Name:  la arena\n",
      "Processing Record 218 of 605 City Name:  los llanos de aridane\n",
      "Processing Record 219 of 605 City Name:  mayo\n",
      "Processing Record 220 of 605 City Name:  karasburg\n",
      "Processing Record 221 of 605 City Name:  saleaula\n",
      "City not found. Skipping...\n",
      "Processing Record 222 of 605 City Name:  sur\n",
      "Processing Record 223 of 605 City Name:  farah\n",
      "Processing Record 224 of 605 City Name:  byron bay\n",
      "Processing Record 225 of 605 City Name:  dzaoudzi\n",
      "Processing Record 226 of 605 City Name:  meyungs\n",
      "City not found. Skipping...\n",
      "Processing Record 227 of 605 City Name:  indianola\n",
      "Processing Record 228 of 605 City Name:  yatou\n",
      "Processing Record 229 of 605 City Name:  bayanday\n",
      "Processing Record 230 of 605 City Name:  lazaro cardenas\n",
      "Processing Record 231 of 605 City Name:  thompson\n",
      "Processing Record 232 of 605 City Name:  lubbock\n",
      "Processing Record 233 of 605 City Name:  college\n",
      "Processing Record 234 of 605 City Name:  barranca\n",
      "Processing Record 235 of 605 City Name:  avera\n",
      "Processing Record 236 of 605 City Name:  beyneu\n",
      "Processing Record 237 of 605 City Name:  fort nelson\n",
      "Processing Record 238 of 605 City Name:  kwinana\n",
      "Processing Record 239 of 605 City Name:  kushima\n",
      "Processing Record 240 of 605 City Name:  san luis\n",
      "Processing Record 241 of 605 City Name:  sao filipe\n",
      "Processing Record 242 of 605 City Name:  charters towers\n",
      "Processing Record 243 of 605 City Name:  rawannawi\n",
      "City not found. Skipping...\n",
      "Processing Record 244 of 605 City Name:  kavieng\n",
      "Processing Record 245 of 605 City Name:  keetmanshoop\n",
      "Processing Record 246 of 605 City Name:  ormstown\n",
      "Processing Record 247 of 605 City Name:  sinnamary\n",
      "Processing Record 248 of 605 City Name:  rawson\n",
      "Processing Record 249 of 605 City Name:  takoradi\n",
      "Processing Record 250 of 605 City Name:  ceres\n",
      "Processing Record 251 of 605 City Name:  dagda\n",
      "Processing Record 252 of 605 City Name:  havre-saint-pierre\n",
      "Processing Record 253 of 605 City Name:  ambovombe\n",
      "Processing Record 254 of 605 City Name:  kyshtovka\n",
      "Processing Record 255 of 605 City Name:  chagda\n",
      "City not found. Skipping...\n",
      "Processing Record 256 of 605 City Name:  marsh harbour\n",
      "Processing Record 257 of 605 City Name:  luorong\n",
      "Processing Record 258 of 605 City Name:  huarmey\n",
      "Processing Record 259 of 605 City Name:  port dickson\n",
      "Processing Record 260 of 605 City Name:  calgary\n",
      "Processing Record 261 of 605 City Name:  matara\n",
      "Processing Record 262 of 605 City Name:  hasaki\n",
      "Processing Record 263 of 605 City Name:  san policarpo\n",
      "Processing Record 264 of 605 City Name:  berlevag\n",
      "Processing Record 265 of 605 City Name:  nicoya\n",
      "Processing Record 266 of 605 City Name:  grand river south east\n",
      "City not found. Skipping...\n",
      "Processing Record 267 of 605 City Name:  kungurtug\n",
      "Processing Record 268 of 605 City Name:  kieta\n",
      "Processing Record 269 of 605 City Name:  piney green\n",
      "Processing Record 270 of 605 City Name:  ust-kuyga\n",
      "Processing Record 271 of 605 City Name:  mount gambier\n",
      "Processing Record 272 of 605 City Name:  satitoa\n",
      "City not found. Skipping...\n",
      "Processing Record 273 of 605 City Name:  kargasok\n",
      "Processing Record 274 of 605 City Name:  shache\n",
      "Processing Record 275 of 605 City Name:  upernavik\n",
      "Processing Record 276 of 605 City Name:  halalo\n",
      "City not found. Skipping...\n",
      "Processing Record 277 of 605 City Name:  shanhetun\n",
      "Processing Record 278 of 605 City Name:  teknaf\n",
      "Processing Record 279 of 605 City Name:  lasa\n",
      "Processing Record 280 of 605 City Name:  wageningen\n",
      "Processing Record 281 of 605 City Name:  hammerfest\n",
      "Processing Record 282 of 605 City Name:  pantai remis\n",
      "Processing Record 283 of 605 City Name:  chapeco\n",
      "Processing Record 284 of 605 City Name:  acarau\n",
      "Processing Record 285 of 605 City Name:  esperance\n",
      "Processing Record 286 of 605 City Name:  papara\n",
      "Processing Record 287 of 605 City Name:  syamzha\n",
      "Processing Record 288 of 605 City Name:  saint-pierre\n",
      "Processing Record 289 of 605 City Name:  bilibino\n",
      "Processing Record 290 of 605 City Name:  shumskiy\n",
      "Processing Record 291 of 605 City Name:  vogar\n",
      "Processing Record 292 of 605 City Name:  paradwip\n",
      "City not found. Skipping...\n",
      "Processing Record 293 of 605 City Name:  killybegs\n",
      "Processing Record 294 of 605 City Name:  kupang\n",
      "Processing Record 295 of 605 City Name:  rognan\n",
      "Processing Record 296 of 605 City Name:  banda aceh\n",
      "Processing Record 297 of 605 City Name:  buchanan\n",
      "Processing Record 298 of 605 City Name:  bubaque\n",
      "Processing Record 299 of 605 City Name:  chapais\n",
      "Processing Record 300 of 605 City Name:  alta floresta\n",
      "Processing Record 301 of 605 City Name:  mouzakion\n",
      "City not found. Skipping...\n",
      "Processing Record 302 of 605 City Name:  nikolskoye\n",
      "Processing Record 303 of 605 City Name:  bathsheba\n",
      "Processing Record 304 of 605 City Name:  rongcheng\n",
      "Processing Record 305 of 605 City Name:  camacha\n",
      "Processing Record 306 of 605 City Name:  santo antonio do monte\n",
      "Processing Record 307 of 605 City Name:  malindi\n",
      "Processing Record 308 of 605 City Name:  kutum\n",
      "Processing Record 309 of 605 City Name:  miranda\n",
      "Processing Record 310 of 605 City Name:  wagar\n",
      "Processing Record 311 of 605 City Name:  the valley\n",
      "Processing Record 312 of 605 City Name:  hirara\n",
      "Processing Record 313 of 605 City Name:  belmonte\n"
     ]
    },
    {
     "name": "stdout",
     "output_type": "stream",
     "text": [
      "Processing Record 314 of 605 City Name:  saint-augustin\n",
      "Processing Record 315 of 605 City Name:  monroe\n",
      "Processing Record 316 of 605 City Name:  tura\n",
      "Processing Record 317 of 605 City Name:  jiutai\n",
      "Processing Record 318 of 605 City Name:  havre\n",
      "Processing Record 319 of 605 City Name:  soyo\n",
      "Processing Record 320 of 605 City Name:  qurbah\n",
      "City not found. Skipping...\n",
      "Processing Record 321 of 605 City Name:  port augusta\n",
      "Processing Record 322 of 605 City Name:  faanui\n",
      "Processing Record 323 of 605 City Name:  hovd\n",
      "Processing Record 324 of 605 City Name:  port blair\n",
      "Processing Record 325 of 605 City Name:  guarapari\n",
      "Processing Record 326 of 605 City Name:  leshukonskoye\n",
      "Processing Record 327 of 605 City Name:  srednekolymsk\n",
      "Processing Record 328 of 605 City Name:  iralaya\n",
      "Processing Record 329 of 605 City Name:  maryville\n",
      "Processing Record 330 of 605 City Name:  ambon\n",
      "Processing Record 331 of 605 City Name:  kaplice\n",
      "Processing Record 332 of 605 City Name:  honiara\n",
      "Processing Record 333 of 605 City Name:  biak\n",
      "Processing Record 334 of 605 City Name:  hami\n",
      "Processing Record 335 of 605 City Name:  la palma\n",
      "Processing Record 336 of 605 City Name:  victoria\n",
      "Processing Record 337 of 605 City Name:  erdemli\n",
      "Processing Record 338 of 605 City Name:  khomutovo\n",
      "Processing Record 339 of 605 City Name:  bjornevatn\n",
      "Processing Record 340 of 605 City Name:  anloga\n",
      "Processing Record 341 of 605 City Name:  udachnyy\n",
      "Processing Record 342 of 605 City Name:  port elizabeth\n",
      "Processing Record 343 of 605 City Name:  santa vitoria do palmar\n",
      "Processing Record 344 of 605 City Name:  terra santa\n",
      "Processing Record 345 of 605 City Name:  ereymentau\n",
      "Processing Record 346 of 605 City Name:  beaverlodge\n",
      "Processing Record 347 of 605 City Name:  necochea\n",
      "Processing Record 348 of 605 City Name:  puerto carreno\n",
      "Processing Record 349 of 605 City Name:  nouadhibou\n",
      "Processing Record 350 of 605 City Name:  pisco\n",
      "Processing Record 351 of 605 City Name:  padang\n",
      "Processing Record 352 of 605 City Name:  quatre cocos\n",
      "Processing Record 353 of 605 City Name:  hofn\n",
      "Processing Record 354 of 605 City Name:  stadskanaal\n",
      "Processing Record 355 of 605 City Name:  nanortalik\n",
      "Processing Record 356 of 605 City Name:  urazovo\n",
      "Processing Record 357 of 605 City Name:  nizhneyansk\n",
      "City not found. Skipping...\n",
      "Processing Record 358 of 605 City Name:  sinegorye\n",
      "Processing Record 359 of 605 City Name:  maghama\n",
      "City not found. Skipping...\n",
      "Processing Record 360 of 605 City Name:  puerto quijarro\n",
      "Processing Record 361 of 605 City Name:  xining\n",
      "Processing Record 362 of 605 City Name:  paamiut\n",
      "Processing Record 363 of 605 City Name:  sioux lookout\n",
      "Processing Record 364 of 605 City Name:  waitati\n",
      "Processing Record 365 of 605 City Name:  palabuhanratu\n",
      "City not found. Skipping...\n",
      "Processing Record 366 of 605 City Name:  tumannyy\n",
      "City not found. Skipping...\n",
      "Processing Record 367 of 605 City Name:  adrar\n",
      "Processing Record 368 of 605 City Name:  atar\n",
      "Processing Record 369 of 605 City Name:  aklavik\n",
      "Processing Record 370 of 605 City Name:  przhevalskoye\n",
      "Processing Record 371 of 605 City Name:  kailua\n",
      "Processing Record 372 of 605 City Name:  viransehir\n",
      "Processing Record 373 of 605 City Name:  bagdarin\n",
      "Processing Record 374 of 605 City Name:  isangel\n",
      "Processing Record 375 of 605 City Name:  bowen\n",
      "Processing Record 376 of 605 City Name:  oktyabrskoye\n",
      "Processing Record 377 of 605 City Name:  port-gentil\n",
      "Processing Record 378 of 605 City Name:  praia da vitoria\n",
      "Processing Record 379 of 605 City Name:  rosarito\n",
      "Processing Record 380 of 605 City Name:  port lincoln\n",
      "Processing Record 381 of 605 City Name:  bhaderwah\n",
      "Processing Record 382 of 605 City Name:  yilan\n",
      "Processing Record 383 of 605 City Name:  palauig\n",
      "Processing Record 384 of 605 City Name:  amazar\n",
      "Processing Record 385 of 605 City Name:  korla\n",
      "Processing Record 386 of 605 City Name:  ende\n",
      "Processing Record 387 of 605 City Name:  san rafael\n",
      "Processing Record 388 of 605 City Name:  karaul\n",
      "City not found. Skipping...\n",
      "Processing Record 389 of 605 City Name:  wahran\n",
      "City not found. Skipping...\n",
      "Processing Record 390 of 605 City Name:  saint anthony\n",
      "Processing Record 391 of 605 City Name:  tsilna\n",
      "Processing Record 392 of 605 City Name:  cordoba\n",
      "Processing Record 393 of 605 City Name:  odienne\n",
      "Processing Record 394 of 605 City Name:  mega\n",
      "Processing Record 395 of 605 City Name:  key largo\n",
      "Processing Record 396 of 605 City Name:  mugumu\n",
      "Processing Record 397 of 605 City Name:  tiksi\n",
      "Processing Record 398 of 605 City Name:  smalininkai\n",
      "Processing Record 399 of 605 City Name:  kenai\n",
      "Processing Record 400 of 605 City Name:  fairbanks\n",
      "Processing Record 401 of 605 City Name:  evensk\n",
      "Processing Record 402 of 605 City Name:  vila velha\n",
      "Processing Record 403 of 605 City Name:  gazli\n",
      "Processing Record 404 of 605 City Name:  tiarei\n",
      "Processing Record 405 of 605 City Name:  boguchany\n",
      "Processing Record 406 of 605 City Name:  honningsvag\n",
      "Processing Record 407 of 605 City Name:  perevolotskiy\n",
      "Processing Record 408 of 605 City Name:  coahuayana\n",
      "Processing Record 409 of 605 City Name:  curvelo\n",
      "Processing Record 410 of 605 City Name:  rostusa\n",
      "Processing Record 411 of 605 City Name:  mys shmidta\n",
      "City not found. Skipping...\n",
      "Processing Record 412 of 605 City Name:  shubarshi\n",
      "Processing Record 413 of 605 City Name:  chifeng\n",
      "Processing Record 414 of 605 City Name:  batticaloa\n",
      "Processing Record 415 of 605 City Name:  beroroha\n",
      "Processing Record 416 of 605 City Name:  bouca\n",
      "Processing Record 417 of 605 City Name:  basco\n",
      "Processing Record 418 of 605 City Name:  narsaq\n",
      "Processing Record 419 of 605 City Name:  kollumerland\n",
      "City not found. Skipping...\n",
      "Processing Record 420 of 605 City Name:  severo-kurilsk\n",
      "Processing Record 421 of 605 City Name:  gundlupet\n",
      "Processing Record 422 of 605 City Name:  rungata\n",
      "City not found. Skipping...\n",
      "Processing Record 423 of 605 City Name:  inuvik\n",
      "Processing Record 424 of 605 City Name:  scalea\n",
      "Processing Record 425 of 605 City Name:  deputatskiy\n",
      "Processing Record 426 of 605 City Name:  kloulklubed\n",
      "Processing Record 427 of 605 City Name:  khatanga\n",
      "Processing Record 428 of 605 City Name:  mikhaylovka\n",
      "Processing Record 429 of 605 City Name:  nanakuli\n",
      "Processing Record 430 of 605 City Name:  salalah\n",
      "Processing Record 431 of 605 City Name:  lolua\n",
      "City not found. Skipping...\n",
      "Processing Record 432 of 605 City Name:  mogadishu\n",
      "Processing Record 433 of 605 City Name:  hostotipaquillo\n",
      "Processing Record 434 of 605 City Name:  acajutla\n",
      "Processing Record 435 of 605 City Name:  moron\n",
      "Processing Record 436 of 605 City Name:  mastic beach\n",
      "Processing Record 437 of 605 City Name:  lerwick\n",
      "Processing Record 438 of 605 City Name:  farmington\n",
      "Processing Record 439 of 605 City Name:  uzhur\n",
      "Processing Record 440 of 605 City Name:  orlik\n",
      "Processing Record 441 of 605 City Name:  buariki\n",
      "City not found. Skipping...\n",
      "Processing Record 442 of 605 City Name:  ketchikan\n",
      "Processing Record 443 of 605 City Name:  asyut\n",
      "Processing Record 444 of 605 City Name:  ahipara\n",
      "Processing Record 445 of 605 City Name:  rosario do sul\n",
      "Processing Record 446 of 605 City Name:  amposta\n",
      "Processing Record 447 of 605 City Name:  mahina\n",
      "Processing Record 448 of 605 City Name:  ous\n",
      "Processing Record 449 of 605 City Name:  seoul\n",
      "Processing Record 450 of 605 City Name:  buqayq\n",
      "City not found. Skipping...\n",
      "Processing Record 451 of 605 City Name:  ballina\n",
      "Processing Record 452 of 605 City Name:  hambantota\n",
      "Processing Record 453 of 605 City Name:  eureka\n",
      "Processing Record 454 of 605 City Name:  mandalgovi\n",
      "Processing Record 455 of 605 City Name:  high level\n",
      "Processing Record 456 of 605 City Name:  beloha\n",
      "Processing Record 457 of 605 City Name:  blankenberge\n",
      "Processing Record 458 of 605 City Name:  marsa matruh\n",
      "Processing Record 459 of 605 City Name:  port hawkesbury\n",
      "Processing Record 460 of 605 City Name:  bratsk\n",
      "Processing Record 461 of 605 City Name:  jackson\n",
      "Processing Record 462 of 605 City Name:  margherita\n",
      "Processing Record 463 of 605 City Name:  wote\n",
      "Processing Record 464 of 605 City Name:  cururupu\n",
      "Processing Record 465 of 605 City Name:  santa rosa\n",
      "Processing Record 466 of 605 City Name:  sunrise manor\n",
      "Processing Record 467 of 605 City Name:  kamenskoye\n",
      "City not found. Skipping...\n",
      "Processing Record 468 of 605 City Name:  dudinka\n"
     ]
    },
    {
     "name": "stdout",
     "output_type": "stream",
     "text": [
      "Processing Record 469 of 605 City Name:  saint-leu\n",
      "Processing Record 470 of 605 City Name:  iquique\n",
      "Processing Record 471 of 605 City Name:  kanniyakumari\n",
      "Processing Record 472 of 605 City Name:  souillac\n",
      "Processing Record 473 of 605 City Name:  beringovskiy\n",
      "Processing Record 474 of 605 City Name:  menongue\n",
      "Processing Record 475 of 605 City Name:  boyolangu\n",
      "Processing Record 476 of 605 City Name:  mehamn\n",
      "Processing Record 477 of 605 City Name:  churapcha\n",
      "Processing Record 478 of 605 City Name:  khlung\n",
      "Processing Record 479 of 605 City Name:  agirish\n",
      "Processing Record 480 of 605 City Name:  omaruru\n",
      "Processing Record 481 of 605 City Name:  san pedro\n",
      "Processing Record 482 of 605 City Name:  mount pleasant\n",
      "Processing Record 483 of 605 City Name:  kargopol\n",
      "Processing Record 484 of 605 City Name:  gribanovskiy\n",
      "Processing Record 485 of 605 City Name:  gadsden\n",
      "Processing Record 486 of 605 City Name:  leningradskiy\n",
      "Processing Record 487 of 605 City Name:  santa cruz de la palma\n",
      "Processing Record 488 of 605 City Name:  komsomolskiy\n",
      "Processing Record 489 of 605 City Name:  panixtlahuaca\n",
      "City not found. Skipping...\n",
      "Processing Record 490 of 605 City Name:  sao miguel do araguaia\n",
      "Processing Record 491 of 605 City Name:  salem\n",
      "Processing Record 492 of 605 City Name:  kruisfontein\n",
      "Processing Record 493 of 605 City Name:  nabire\n",
      "Processing Record 494 of 605 City Name:  yining\n",
      "Processing Record 495 of 605 City Name:  devon\n",
      "Processing Record 496 of 605 City Name:  okahandja\n",
      "Processing Record 497 of 605 City Name:  carutapera\n",
      "Processing Record 498 of 605 City Name:  ruatoria\n",
      "City not found. Skipping...\n",
      "Processing Record 499 of 605 City Name:  podor\n",
      "Processing Record 500 of 605 City Name:  roebourne\n",
      "Processing Record 501 of 605 City Name:  chambersburg\n",
      "Processing Record 502 of 605 City Name:  prattville\n",
      "Processing Record 503 of 605 City Name:  waipawa\n",
      "Processing Record 504 of 605 City Name:  skibbereen\n",
      "Processing Record 505 of 605 City Name:  huambo\n",
      "Processing Record 506 of 605 City Name:  hualmay\n",
      "Processing Record 507 of 605 City Name:  athabasca\n",
      "Processing Record 508 of 605 City Name:  karauzyak\n",
      "City not found. Skipping...\n",
      "Processing Record 509 of 605 City Name:  mizdah\n",
      "Processing Record 510 of 605 City Name:  riyadh\n",
      "Processing Record 511 of 605 City Name:  karpathos\n",
      "Processing Record 512 of 605 City Name:  hamilton\n",
      "Processing Record 513 of 605 City Name:  kirakira\n",
      "Processing Record 514 of 605 City Name:  calvia\n",
      "Processing Record 515 of 605 City Name:  fukue\n",
      "Processing Record 516 of 605 City Name:  barcelona\n",
      "Processing Record 517 of 605 City Name:  ajdabiya\n",
      "Processing Record 518 of 605 City Name:  hay river\n",
      "Processing Record 519 of 605 City Name:  manavalakurichi\n",
      "Processing Record 520 of 605 City Name:  gao\n",
      "Processing Record 521 of 605 City Name:  shaunavon\n",
      "Processing Record 522 of 605 City Name:  chuy\n",
      "Processing Record 523 of 605 City Name:  tual\n",
      "Processing Record 524 of 605 City Name:  sambava\n",
      "Processing Record 525 of 605 City Name:  rincon\n",
      "Processing Record 526 of 605 City Name:  la plata\n",
      "Processing Record 527 of 605 City Name:  ushtobe\n",
      "Processing Record 528 of 605 City Name:  mopti\n",
      "Processing Record 529 of 605 City Name:  floro\n",
      "Processing Record 530 of 605 City Name:  elliot lake\n",
      "Processing Record 531 of 605 City Name:  syracuse\n",
      "Processing Record 532 of 605 City Name:  lebedinyy\n",
      "Processing Record 533 of 605 City Name:  sale\n",
      "Processing Record 534 of 605 City Name:  ikryanoye\n",
      "Processing Record 535 of 605 City Name:  sola\n",
      "Processing Record 536 of 605 City Name:  dawlatabad\n",
      "Processing Record 537 of 605 City Name:  ulety\n",
      "Processing Record 538 of 605 City Name:  invermere\n",
      "Processing Record 539 of 605 City Name:  calama\n",
      "Processing Record 540 of 605 City Name:  panaba\n",
      "Processing Record 541 of 605 City Name:  cascais\n",
      "Processing Record 542 of 605 City Name:  linares\n",
      "Processing Record 543 of 605 City Name:  el balyana\n",
      "City not found. Skipping...\n",
      "Processing Record 544 of 605 City Name:  mlonggo\n",
      "Processing Record 545 of 605 City Name:  nyurba\n",
      "Processing Record 546 of 605 City Name:  san vicente de canete\n",
      "Processing Record 547 of 605 City Name:  egvekinot\n",
      "Processing Record 548 of 605 City Name:  vaitupu\n",
      "City not found. Skipping...\n",
      "Processing Record 549 of 605 City Name:  manggar\n",
      "Processing Record 550 of 605 City Name:  southbridge\n",
      "Processing Record 551 of 605 City Name:  kualakapuas\n",
      "Processing Record 552 of 605 City Name:  tawang\n",
      "Processing Record 553 of 605 City Name:  te anau\n",
      "Processing Record 554 of 605 City Name:  male\n",
      "Processing Record 555 of 605 City Name:  del rio\n",
      "Processing Record 556 of 605 City Name:  melfi\n",
      "Processing Record 557 of 605 City Name:  pevek\n",
      "Processing Record 558 of 605 City Name:  poum\n",
      "Processing Record 559 of 605 City Name:  pinega\n",
      "Processing Record 560 of 605 City Name:  la ronge\n",
      "Processing Record 561 of 605 City Name:  attawapiskat\n",
      "City not found. Skipping...\n",
      "Processing Record 562 of 605 City Name:  tigil\n",
      "Processing Record 563 of 605 City Name:  minab\n",
      "Processing Record 564 of 605 City Name:  gondanglegi\n",
      "Processing Record 565 of 605 City Name:  dahegam\n",
      "Processing Record 566 of 605 City Name:  thunder bay\n",
      "Processing Record 567 of 605 City Name:  miri\n",
      "Processing Record 568 of 605 City Name:  newcastle\n",
      "Processing Record 569 of 605 City Name:  bonavista\n",
      "Processing Record 570 of 605 City Name:  kahului\n",
      "Processing Record 571 of 605 City Name:  hinganghat\n",
      "Processing Record 572 of 605 City Name:  lavrentiya\n",
      "Processing Record 573 of 605 City Name:  talcahuano\n",
      "Processing Record 574 of 605 City Name:  namibe\n",
      "Processing Record 575 of 605 City Name:  tashtagol\n",
      "Processing Record 576 of 605 City Name:  salinopolis\n",
      "Processing Record 577 of 605 City Name:  foumban\n",
      "Processing Record 578 of 605 City Name:  bonthe\n",
      "Processing Record 579 of 605 City Name:  manado\n",
      "Processing Record 580 of 605 City Name:  mwense\n",
      "Processing Record 581 of 605 City Name:  laguna de duero\n",
      "Processing Record 582 of 605 City Name:  rancho palos verdes\n",
      "Processing Record 583 of 605 City Name:  vagay\n",
      "Processing Record 584 of 605 City Name:  paracuru\n",
      "Processing Record 585 of 605 City Name:  davila\n",
      "Processing Record 586 of 605 City Name:  makakilo city\n",
      "Processing Record 587 of 605 City Name:  vvedenskoye\n",
      "Processing Record 588 of 605 City Name:  emborion\n",
      "Processing Record 589 of 605 City Name:  mrirt\n",
      "City not found. Skipping...\n",
      "Processing Record 590 of 605 City Name:  clinton\n",
      "Processing Record 591 of 605 City Name:  waingapu\n",
      "Processing Record 592 of 605 City Name:  senj\n",
      "Processing Record 593 of 605 City Name:  sataua\n",
      "City not found. Skipping...\n",
      "Processing Record 594 of 605 City Name:  diego de almagro\n",
      "Processing Record 595 of 605 City Name:  vestmanna\n",
      "Processing Record 596 of 605 City Name:  kununurra\n",
      "Processing Record 597 of 605 City Name:  sao felix do xingu\n",
      "Processing Record 598 of 605 City Name:  biltine\n",
      "Processing Record 599 of 605 City Name:  asekeyevo\n",
      "Processing Record 600 of 605 City Name:  tamworth\n",
      "Processing Record 601 of 605 City Name:  kamaishi\n",
      "Processing Record 602 of 605 City Name:  young\n",
      "Processing Record 603 of 605 City Name:  yambio\n",
      "Processing Record 604 of 605 City Name:  one hundred mile house\n",
      "City not found. Skipping...\n",
      "Processing Record 605 of 605 City Name:  cabedelo\n"
     ]
    }
   ],
   "source": [
    "# Loop through the list of cities and perform a request for data on each\n",
    "#params = {\"appid\": api_key, \"units\": units, \"q\": city }\n",
    "C=1\n",
    "for city in cities:\n",
    "    try:\n",
    "        response = requests.get(query_url + city).json()\n",
    "        print( \"Processing Record\", C, \"of\", city_count, \"City Name: \", city )\n",
    "        lat.append(response[\"coord\"][\"lat\"])\n",
    "        lng.append(response[\"coord\"][\"lon\"])\n",
    "        max_temp.append(response[\"main\"][\"temp_max\"])\n",
    "        cloudiness.append(response[\"clouds\"][\"all\"])\n",
    "        wind_speed.append(response[\"wind\"][\"speed\"])\n",
    "        country.append(response[\"sys\"][\"country\"])\n",
    "        date.append(response[\"dt\"])\n",
    "        humidity.append(response[\"main\"][\"humidity\"])\n",
    "        city_name.append(response[\"name\"])\n",
    "    except: \n",
    "        print(\"City not found. Skipping...\")\n",
    "    C=C+1\n",
    "#print(lat)"
   ]
  },
  {
   "cell_type": "code",
   "execution_count": 8,
   "metadata": {},
   "outputs": [
    {
     "name": "stdout",
     "output_type": "stream",
     "text": [
      "557\n",
      "605\n",
      "557\n"
     ]
    }
   ],
   "source": [
    "print(len(city_name))\n",
    "print(len(cities))\n",
    "print(len(humidity))"
   ]
  },
  {
   "cell_type": "markdown",
   "metadata": {},
   "source": [
    "### Convert Raw Data to DataFrame\n",
    "* Export the city data into a .csv.\n",
    "* Display the DataFrame"
   ]
  },
  {
   "cell_type": "code",
   "execution_count": 9,
   "metadata": {},
   "outputs": [
    {
     "data": {
      "text/plain": [
       "City          557\n",
       "Country       557\n",
       "Date          557\n",
       "Max Temp      557\n",
       "Cloudiness    557\n",
       "Wind Speed    557\n",
       "Humidity      557\n",
       "Lng           557\n",
       "Lat           557\n",
       "dtype: int64"
      ]
     },
     "execution_count": 9,
     "metadata": {},
     "output_type": "execute_result"
    }
   ],
   "source": [
    "# creating a Data Frame\n",
    "city_dic = {\n",
    "    \"City\": city_name,\n",
    "    \"Country\": country,\n",
    "    \"Date\": date,\n",
    "    \"Max Temp\": max_temp,\n",
    "    \"Cloudiness\": cloudiness,\n",
    "    \"Wind Speed\": wind_speed,\n",
    "    \"Humidity\": humidity,\n",
    "    \"Lng\": lng,\n",
    "    \"Lat\": lat    \n",
    "}\n",
    "city_data = pd.DataFrame(city_dic)\n",
    "city_data.drop_duplicates\n",
    "city_data.dropna()\n",
    "city_data.isnull().sum() \n",
    "city_data.count()\n",
    "\n"
   ]
  },
  {
   "cell_type": "code",
   "execution_count": 29,
   "metadata": {},
   "outputs": [],
   "source": [
    "# export data into csv\n",
    "city_data.to_csv(output_data_file, index_label=\"City_ID\")"
   ]
  },
  {
   "cell_type": "code",
   "execution_count": 10,
   "metadata": {},
   "outputs": [
    {
     "data": {
      "text/html": [
       "<div>\n",
       "<style scoped>\n",
       "    .dataframe tbody tr th:only-of-type {\n",
       "        vertical-align: middle;\n",
       "    }\n",
       "\n",
       "    .dataframe tbody tr th {\n",
       "        vertical-align: top;\n",
       "    }\n",
       "\n",
       "    .dataframe thead th {\n",
       "        text-align: right;\n",
       "    }\n",
       "</style>\n",
       "<table border=\"1\" class=\"dataframe\">\n",
       "  <thead>\n",
       "    <tr style=\"text-align: right;\">\n",
       "      <th></th>\n",
       "      <th>Date</th>\n",
       "      <th>Max Temp</th>\n",
       "      <th>Cloudiness</th>\n",
       "      <th>Wind Speed</th>\n",
       "      <th>Humidity</th>\n",
       "      <th>Lng</th>\n",
       "      <th>Lat</th>\n",
       "    </tr>\n",
       "  </thead>\n",
       "  <tbody>\n",
       "    <tr>\n",
       "      <th>count</th>\n",
       "      <td>5.570000e+02</td>\n",
       "      <td>557.000000</td>\n",
       "      <td>557.000000</td>\n",
       "      <td>557.000000</td>\n",
       "      <td>557.000000</td>\n",
       "      <td>557.000000</td>\n",
       "      <td>557.000000</td>\n",
       "    </tr>\n",
       "    <tr>\n",
       "      <th>mean</th>\n",
       "      <td>1.651350e+09</td>\n",
       "      <td>16.434524</td>\n",
       "      <td>56.928187</td>\n",
       "      <td>3.594273</td>\n",
       "      <td>69.186715</td>\n",
       "      <td>18.171034</td>\n",
       "      <td>19.889181</td>\n",
       "    </tr>\n",
       "    <tr>\n",
       "      <th>std</th>\n",
       "      <td>1.429905e+02</td>\n",
       "      <td>10.995734</td>\n",
       "      <td>40.206775</td>\n",
       "      <td>2.281823</td>\n",
       "      <td>22.096933</td>\n",
       "      <td>91.809907</td>\n",
       "      <td>33.637092</td>\n",
       "    </tr>\n",
       "    <tr>\n",
       "      <th>min</th>\n",
       "      <td>1.651350e+09</td>\n",
       "      <td>-16.740000</td>\n",
       "      <td>0.000000</td>\n",
       "      <td>0.000000</td>\n",
       "      <td>4.000000</td>\n",
       "      <td>-179.166700</td>\n",
       "      <td>-54.800000</td>\n",
       "    </tr>\n",
       "    <tr>\n",
       "      <th>25%</th>\n",
       "      <td>1.651350e+09</td>\n",
       "      <td>9.410000</td>\n",
       "      <td>15.000000</td>\n",
       "      <td>1.910000</td>\n",
       "      <td>59.000000</td>\n",
       "      <td>-61.348500</td>\n",
       "      <td>-8.843200</td>\n",
       "    </tr>\n",
       "    <tr>\n",
       "      <th>50%</th>\n",
       "      <td>1.651350e+09</td>\n",
       "      <td>17.490000</td>\n",
       "      <td>68.000000</td>\n",
       "      <td>3.180000</td>\n",
       "      <td>75.000000</td>\n",
       "      <td>21.850000</td>\n",
       "      <td>24.800000</td>\n",
       "    </tr>\n",
       "    <tr>\n",
       "      <th>75%</th>\n",
       "      <td>1.651351e+09</td>\n",
       "      <td>25.810000</td>\n",
       "      <td>100.000000</td>\n",
       "      <td>4.700000</td>\n",
       "      <td>86.000000</td>\n",
       "      <td>101.795900</td>\n",
       "      <td>48.649900</td>\n",
       "    </tr>\n",
       "    <tr>\n",
       "      <th>max</th>\n",
       "      <td>1.651351e+09</td>\n",
       "      <td>35.780000</td>\n",
       "      <td>100.000000</td>\n",
       "      <td>16.460000</td>\n",
       "      <td>100.000000</td>\n",
       "      <td>179.316700</td>\n",
       "      <td>78.218600</td>\n",
       "    </tr>\n",
       "  </tbody>\n",
       "</table>\n",
       "</div>"
      ],
      "text/plain": [
       "               Date    Max Temp  Cloudiness  Wind Speed    Humidity  \\\n",
       "count  5.570000e+02  557.000000  557.000000  557.000000  557.000000   \n",
       "mean   1.651350e+09   16.434524   56.928187    3.594273   69.186715   \n",
       "std    1.429905e+02   10.995734   40.206775    2.281823   22.096933   \n",
       "min    1.651350e+09  -16.740000    0.000000    0.000000    4.000000   \n",
       "25%    1.651350e+09    9.410000   15.000000    1.910000   59.000000   \n",
       "50%    1.651350e+09   17.490000   68.000000    3.180000   75.000000   \n",
       "75%    1.651351e+09   25.810000  100.000000    4.700000   86.000000   \n",
       "max    1.651351e+09   35.780000  100.000000   16.460000  100.000000   \n",
       "\n",
       "              Lng         Lat  \n",
       "count  557.000000  557.000000  \n",
       "mean    18.171034   19.889181  \n",
       "std     91.809907   33.637092  \n",
       "min   -179.166700  -54.800000  \n",
       "25%    -61.348500   -8.843200  \n",
       "50%     21.850000   24.800000  \n",
       "75%    101.795900   48.649900  \n",
       "max    179.316700   78.218600  "
      ]
     },
     "execution_count": 10,
     "metadata": {},
     "output_type": "execute_result"
    }
   ],
   "source": [
    "city_data.describe()"
   ]
  },
  {
   "cell_type": "code",
   "execution_count": 11,
   "metadata": {},
   "outputs": [
    {
     "data": {
      "text/html": [
       "<div>\n",
       "<style scoped>\n",
       "    .dataframe tbody tr th:only-of-type {\n",
       "        vertical-align: middle;\n",
       "    }\n",
       "\n",
       "    .dataframe tbody tr th {\n",
       "        vertical-align: top;\n",
       "    }\n",
       "\n",
       "    .dataframe thead th {\n",
       "        text-align: right;\n",
       "    }\n",
       "</style>\n",
       "<table border=\"1\" class=\"dataframe\">\n",
       "  <thead>\n",
       "    <tr style=\"text-align: right;\">\n",
       "      <th></th>\n",
       "      <th>City</th>\n",
       "      <th>Country</th>\n",
       "      <th>Date</th>\n",
       "      <th>Max Temp</th>\n",
       "      <th>Cloudiness</th>\n",
       "      <th>Wind Speed</th>\n",
       "      <th>Humidity</th>\n",
       "      <th>Lng</th>\n",
       "      <th>Lat</th>\n",
       "    </tr>\n",
       "  </thead>\n",
       "  <tbody>\n",
       "    <tr>\n",
       "      <th>552</th>\n",
       "      <td>Tamworth</td>\n",
       "      <td>GB</td>\n",
       "      <td>1651350619</td>\n",
       "      <td>14.18</td>\n",
       "      <td>100</td>\n",
       "      <td>1.66</td>\n",
       "      <td>59</td>\n",
       "      <td>-1.6959</td>\n",
       "      <td>52.6340</td>\n",
       "    </tr>\n",
       "    <tr>\n",
       "      <th>553</th>\n",
       "      <td>Kamaishi</td>\n",
       "      <td>JP</td>\n",
       "      <td>1651350620</td>\n",
       "      <td>7.86</td>\n",
       "      <td>100</td>\n",
       "      <td>4.82</td>\n",
       "      <td>75</td>\n",
       "      <td>141.8833</td>\n",
       "      <td>39.2667</td>\n",
       "    </tr>\n",
       "    <tr>\n",
       "      <th>554</th>\n",
       "      <td>Young</td>\n",
       "      <td>UY</td>\n",
       "      <td>1651350620</td>\n",
       "      <td>11.95</td>\n",
       "      <td>100</td>\n",
       "      <td>2.48</td>\n",
       "      <td>79</td>\n",
       "      <td>-57.6333</td>\n",
       "      <td>-32.6833</td>\n",
       "    </tr>\n",
       "    <tr>\n",
       "      <th>555</th>\n",
       "      <td>Yambio</td>\n",
       "      <td>SS</td>\n",
       "      <td>1651350621</td>\n",
       "      <td>19.56</td>\n",
       "      <td>94</td>\n",
       "      <td>2.16</td>\n",
       "      <td>87</td>\n",
       "      <td>28.3955</td>\n",
       "      <td>4.5721</td>\n",
       "    </tr>\n",
       "    <tr>\n",
       "      <th>556</th>\n",
       "      <td>Cabedelo</td>\n",
       "      <td>BR</td>\n",
       "      <td>1651350334</td>\n",
       "      <td>27.37</td>\n",
       "      <td>100</td>\n",
       "      <td>6.87</td>\n",
       "      <td>75</td>\n",
       "      <td>-34.8339</td>\n",
       "      <td>-6.9811</td>\n",
       "    </tr>\n",
       "  </tbody>\n",
       "</table>\n",
       "</div>"
      ],
      "text/plain": [
       "         City Country        Date  Max Temp  Cloudiness  Wind Speed  Humidity  \\\n",
       "552  Tamworth      GB  1651350619     14.18         100        1.66        59   \n",
       "553  Kamaishi      JP  1651350620      7.86         100        4.82        75   \n",
       "554     Young      UY  1651350620     11.95         100        2.48        79   \n",
       "555    Yambio      SS  1651350621     19.56          94        2.16        87   \n",
       "556  Cabedelo      BR  1651350334     27.37         100        6.87        75   \n",
       "\n",
       "          Lng      Lat  \n",
       "552   -1.6959  52.6340  \n",
       "553  141.8833  39.2667  \n",
       "554  -57.6333 -32.6833  \n",
       "555   28.3955   4.5721  \n",
       "556  -34.8339  -6.9811  "
      ]
     },
     "execution_count": 11,
     "metadata": {},
     "output_type": "execute_result"
    }
   ],
   "source": [
    "city_data.tail()"
   ]
  },
  {
   "cell_type": "code",
   "execution_count": 31,
   "metadata": {},
   "outputs": [],
   "source": [
    "# Export the city data into a .csv\n",
    "output_data_file = \"../output_data/cities.csv\""
   ]
  },
  {
   "cell_type": "markdown",
   "metadata": {},
   "source": [
    "## Inspect the data and remove the cities where the humidity > 100%.\n",
    "----\n",
    "Skip this step if there are no cities that have humidity > 100%. "
   ]
  },
  {
   "cell_type": "code",
   "execution_count": 13,
   "metadata": {},
   "outputs": [
    {
     "name": "stdout",
     "output_type": "stream",
     "text": [
      "count    557.000000\n",
      "mean      69.186715\n",
      "std       22.096933\n",
      "min        4.000000\n",
      "25%       59.000000\n",
      "50%       75.000000\n",
      "75%       86.000000\n",
      "max      100.000000\n",
      "Name: Humidity, dtype: float64 \n",
      "\n",
      "Max humidity is 100%. There are no cities that have humidity>100%\n"
     ]
    }
   ],
   "source": [
    "#  Get the indices of cities that have humidity over 100%.\n",
    "\n",
    "print(city_data['Humidity'].describe() ,\"\\n\")\n",
    "\n",
    "print(\"Max humidity is 100%. There are no cities that have humidity>100%\")"
   ]
  },
  {
   "cell_type": "code",
   "execution_count": 14,
   "metadata": {},
   "outputs": [],
   "source": [
    "# Make a new DataFrame equal to the city data to drop all humidity outliers by index.\n",
    "# Passing \"inplace=False\" will make a copy of the city_data DataFrame, which we call \"clean_city_data\".\n"
   ]
  },
  {
   "cell_type": "markdown",
   "metadata": {},
   "source": [
    "## Plotting the Data\n",
    "* Use proper labeling of the plots using plot titles (including date of analysis) and axes labels.\n",
    "* Save the plotted figures as .pngs."
   ]
  },
  {
   "cell_type": "markdown",
   "metadata": {},
   "source": [
    "## Latitude vs. Temperature Plot"
   ]
  },
  {
   "cell_type": "code",
   "execution_count": 33,
   "metadata": {
    "scrolled": true
   },
   "outputs": [
    {
     "data": {
      "image/png": "[encoded data removed]",
      "text/plain": [
       "<Figure size 720x360 with 1 Axes>"
      ]
     },
     "metadata": {
      "needs_background": "light"
     },
     "output_type": "display_data"
    }
   ],
   "source": [
    "fig = city_data.plot.scatter(x='Lat', y='Max Temp', c='lightblue', figsize=(10,5), edgecolors='black')\n",
    "plt.savefig('output_data/City Latitude vs. MaxTemp.png')"
   ]
  },
  {
   "cell_type": "markdown",
   "metadata": {},
   "source": [
    "## Latitude vs. Humidity Plot"
   ]
  },
  {
   "cell_type": "code",
   "execution_count": 34,
   "metadata": {},
   "outputs": [
    {
     "data": {
      "image/png": "[encoded data removed]",
      "text/plain": [
       "<Figure size 720x360 with 1 Axes>"
      ]
     },
     "metadata": {
      "needs_background": "light"
     },
     "output_type": "display_data"
    }
   ],
   "source": [
    "fig2 = city_data.plot.scatter(x='Lat', y='Humidity', c='lightgreen', figsize=(10,5), edgecolors='black')\n",
    "plt.savefig('output_data/Latitude vs. Humidity.png')"
   ]
  },
  {
   "cell_type": "markdown",
   "metadata": {},
   "source": [
    "## Latitude vs. Cloudiness Plot"
   ]
  },
  {
   "cell_type": "code",
   "execution_count": 35,
   "metadata": {},
   "outputs": [
    {
     "data": {
      "image/png": "[encoded data removed]",
      "text/plain": [
       "<Figure size 720x360 with 1 Axes>"
      ]
     },
     "metadata": {
      "needs_background": "light"
     },
     "output_type": "display_data"
    }
   ],
   "source": [
    "fig3 = city_data.plot.scatter(x='Lat', y='Cloudiness', c='blue', figsize=(10,5), edgecolors='darkblue')\n",
    "plt.savefig('output_data/Latitude vs. Cloudiness.png')"
   ]
  },
  {
   "cell_type": "markdown",
   "metadata": {},
   "source": [
    "## Latitude vs. Wind Speed Plot"
   ]
  },
  {
   "cell_type": "code",
   "execution_count": 36,
   "metadata": {},
   "outputs": [
    {
     "data": {
      "image/png": "[encoded data removed]",
      "text/plain": [
       "<Figure size 720x360 with 1 Axes>"
      ]
     },
     "metadata": {
      "needs_background": "light"
     },
     "output_type": "display_data"
    }
   ],
   "source": [
    "fig3 = city_data.plot.scatter(x='Lat', y='Wind Speed', c='gray', figsize=(10,5), edgecolors='black')\n",
    "plt.savefig('output_data/Latitude vs. Wind Speed.png')"
   ]
  },
  {
   "cell_type": "markdown",
   "metadata": {},
   "source": [
    "## Linear Regression"
   ]
  },
  {
   "cell_type": "code",
   "execution_count": 19,
   "metadata": {},
   "outputs": [
    {
     "data": {
      "text/html": [
       "<div>\n",
       "<style scoped>\n",
       "    .dataframe tbody tr th:only-of-type {\n",
       "        vertical-align: middle;\n",
       "    }\n",
       "\n",
       "    .dataframe tbody tr th {\n",
       "        vertical-align: top;\n",
       "    }\n",
       "\n",
       "    .dataframe thead th {\n",
       "        text-align: right;\n",
       "    }\n",
       "</style>\n",
       "<table border=\"1\" class=\"dataframe\">\n",
       "  <thead>\n",
       "    <tr style=\"text-align: right;\">\n",
       "      <th></th>\n",
       "      <th>City</th>\n",
       "      <th>Country</th>\n",
       "      <th>Date</th>\n",
       "      <th>Max Temp</th>\n",
       "      <th>Cloudiness</th>\n",
       "      <th>Wind Speed</th>\n",
       "      <th>Humidity</th>\n",
       "      <th>Lng</th>\n",
       "      <th>Lat</th>\n",
       "    </tr>\n",
       "  </thead>\n",
       "  <tbody>\n",
       "    <tr>\n",
       "      <th>1</th>\n",
       "      <td>Impfondo</td>\n",
       "      <td>CG</td>\n",
       "      <td>1651350335</td>\n",
       "      <td>24.32</td>\n",
       "      <td>12</td>\n",
       "      <td>0.80</td>\n",
       "      <td>68</td>\n",
       "      <td>18.0667</td>\n",
       "      <td>1.6381</td>\n",
       "    </tr>\n",
       "    <tr>\n",
       "      <th>4</th>\n",
       "      <td>Emba</td>\n",
       "      <td>KZ</td>\n",
       "      <td>1651350336</td>\n",
       "      <td>13.82</td>\n",
       "      <td>100</td>\n",
       "      <td>7.65</td>\n",
       "      <td>66</td>\n",
       "      <td>58.1442</td>\n",
       "      <td>48.8264</td>\n",
       "    </tr>\n",
       "    <tr>\n",
       "      <th>5</th>\n",
       "      <td>San Patricio</td>\n",
       "      <td>US</td>\n",
       "      <td>1651350135</td>\n",
       "      <td>30.05</td>\n",
       "      <td>95</td>\n",
       "      <td>7.33</td>\n",
       "      <td>62</td>\n",
       "      <td>-97.5169</td>\n",
       "      <td>28.0170</td>\n",
       "    </tr>\n",
       "    <tr>\n",
       "      <th>6</th>\n",
       "      <td>Qian’an</td>\n",
       "      <td>CN</td>\n",
       "      <td>1651350337</td>\n",
       "      <td>2.39</td>\n",
       "      <td>97</td>\n",
       "      <td>3.08</td>\n",
       "      <td>53</td>\n",
       "      <td>124.0581</td>\n",
       "      <td>44.9932</td>\n",
       "    </tr>\n",
       "    <tr>\n",
       "      <th>7</th>\n",
       "      <td>Klaksvík</td>\n",
       "      <td>FO</td>\n",
       "      <td>1651350203</td>\n",
       "      <td>6.51</td>\n",
       "      <td>25</td>\n",
       "      <td>3.77</td>\n",
       "      <td>88</td>\n",
       "      <td>-6.5890</td>\n",
       "      <td>62.2266</td>\n",
       "    </tr>\n",
       "  </tbody>\n",
       "</table>\n",
       "</div>"
      ],
      "text/plain": [
       "           City Country        Date  Max Temp  Cloudiness  Wind Speed  \\\n",
       "1      Impfondo      CG  1651350335     24.32          12        0.80   \n",
       "4          Emba      KZ  1651350336     13.82         100        7.65   \n",
       "5  San Patricio      US  1651350135     30.05          95        7.33   \n",
       "6       Qian’an      CN  1651350337      2.39          97        3.08   \n",
       "7      Klaksvík      FO  1651350203      6.51          25        3.77   \n",
       "\n",
       "   Humidity       Lng      Lat  \n",
       "1        68   18.0667   1.6381  \n",
       "4        66   58.1442  48.8264  \n",
       "5        62  -97.5169  28.0170  \n",
       "6        53  124.0581  44.9932  \n",
       "7        88   -6.5890  62.2266  "
      ]
     },
     "execution_count": 19,
     "metadata": {},
     "output_type": "execute_result"
    }
   ],
   "source": [
    "# New data frame for northern hemisphere\n",
    "city_data_north = city_data[city_data['Lat'] >= 0]\n",
    "\n",
    "#weather_data_north.count()\n",
    "\n",
    "# New data frame for southern hemisphere\n",
    "city_data_south = city_data[city_data['Lat'] < 0]\n",
    "\n",
    "city_data_north.head()"
   ]
  },
  {
   "cell_type": "markdown",
   "metadata": {},
   "source": [
    "####  Northern Hemisphere - Max Temp vs. Latitude Linear Regression"
   ]
  },
  {
   "cell_type": "code",
   "execution_count": 20,
   "metadata": {},
   "outputs": [
    {
     "data": {
      "image/png": "[encoded data removed]",
      "text/plain": [
       "<Figure size 432x288 with 1 Axes>"
      ]
     },
     "metadata": {
      "needs_background": "light"
     },
     "output_type": "display_data"
    }
   ],
   "source": [
    "cdn_x_values = city_data_north['Max Temp']\n",
    "cdn_y_values = city_data_north['Lat']\n",
    "(slope, intercept, rvalue, pvalue, stderr) = linregress(cdn_x_values, cdn_y_values)\n",
    "regress_values = cdn_x_values * slope + intercept\n",
    "line_eq = \"y = \" + str(round(slope,2)) + \"x + \" + str(round(intercept,2))\n",
    "plt.scatter(cdn_x_values,cdn_y_values)\n",
    "plt.plot(cdn_x_values,regress_values,\"r-\")\n",
    "plt.annotate(line_eq,(5.8,0.8),fontsize=15,color=\"red\")\n",
    "plt.xlabel('Northern Hemisphere - Max Temp ')\n",
    "plt.ylabel('Northern Hemisphere - Latitude  ')\n",
    "plt.show()\n"
   ]
  },
  {
   "cell_type": "markdown",
   "metadata": {},
   "source": [
    "####  Southern Hemisphere - Max Temp vs. Latitude Linear Regression"
   ]
  },
  {
   "cell_type": "code",
   "execution_count": 21,
   "metadata": {},
   "outputs": [
    {
     "data": {
      "image/png": "[encoded data removed]",
      "text/plain": [
       "<Figure size 432x288 with 1 Axes>"
      ]
     },
     "metadata": {
      "needs_background": "light"
     },
     "output_type": "display_data"
    }
   ],
   "source": [
    "cds_x_values = city_data_south['Max Temp']\n",
    "cds_y_values = city_data_south['Lat']\n",
    "(slope, intercept, rvalue, pvalue, stderr) = linregress(cds_x_values, cds_y_values)\n",
    "regress_values = cds_x_values * slope + intercept\n",
    "line_eq = \"y = \" + str(round(slope,2)) + \"x + \" + str(round(intercept,2))\n",
    "plt.scatter(cds_x_values,cds_y_values)\n",
    "plt.plot(cds_x_values,regress_values,\"r-\")\n",
    "plt.annotate(line_eq,(5.8,0.8),fontsize=15,color=\"red\")\n",
    "plt.xlabel('Souther Hemisphere - Max Temp ')\n",
    "plt.ylabel('Southern Hemisphere - Latitude  ')\n",
    "plt.show()"
   ]
  },
  {
   "cell_type": "markdown",
   "metadata": {},
   "source": [
    "####  Northern Hemisphere - Humidity (%) vs. Latitude Linear Regression"
   ]
  },
  {
   "cell_type": "code",
   "execution_count": 22,
   "metadata": {},
   "outputs": [
    {
     "data": {
      "image/png": "[encoded data removed]",
      "text/plain": [
       "<Figure size 432x288 with 1 Axes>"
      ]
     },
     "metadata": {
      "needs_background": "light"
     },
     "output_type": "display_data"
    }
   ],
   "source": [
    "hln_x_values = city_data_north['Humidity']\n",
    "hln_y_values = city_data_north['Lat']\n",
    "(slope, intercept, rvalue, pvalue, stderr) = linregress(hln_x_values, hln_y_values)\n",
    "regress_values = hln_x_values * slope + intercept\n",
    "line_eq = \"y = \" + str(round(slope,2)) + \"x + \" + str(round(intercept,2))\n",
    "plt.scatter(hln_x_values,hln_y_values)\n",
    "plt.plot(hln_x_values,regress_values,\"r-\")\n",
    "plt.annotate(line_eq,(5.8,0.8),fontsize=15,color=\"red\")\n",
    "plt.xlabel('Northern Hemisphere - Humidity ')\n",
    "plt.ylabel('Northern Hemisphere - Latitude  ')\n",
    "plt.show()"
   ]
  },
  {
   "cell_type": "markdown",
   "metadata": {},
   "source": [
    "####  Southern Hemisphere - Humidity (%) vs. Latitude Linear Regression"
   ]
  },
  {
   "cell_type": "code",
   "execution_count": 23,
   "metadata": {},
   "outputs": [
    {
     "data": {
      "image/png": "[encoded data removed]",
      "text/plain": [
       "<Figure size 432x288 with 1 Axes>"
      ]
     },
     "metadata": {
      "needs_background": "light"
     },
     "output_type": "display_data"
    }
   ],
   "source": [
    "hls_x_values = city_data_south['Humidity']\n",
    "hls_y_values = city_data_south['Lat']\n",
    "(slope, intercept, rvalue, pvalue, stderr) = linregress(hls_x_values, hls_y_values)\n",
    "regress_values = hls_x_values * slope + intercept\n",
    "line_eq = \"y = \" + str(round(slope,2)) + \"x + \" + str(round(intercept,2))\n",
    "plt.scatter(hls_x_values, hls_y_values)\n",
    "plt.plot(hls_x_values,regress_values,\"r-\")\n",
    "plt.annotate(line_eq,(5.8,0.8),fontsize=15,color=\"red\")\n",
    "plt.xlabel('Southern Hemisphere - Humidity ')\n",
    "plt.ylabel('Southern Hemisphere - Latitude  ')\n",
    "plt.show()"
   ]
  },
  {
   "cell_type": "markdown",
   "metadata": {},
   "source": [
    "####  Northern Hemisphere - Cloudiness (%) vs. Latitude Linear Regression"
   ]
  },
  {
   "cell_type": "code",
   "execution_count": 24,
   "metadata": {},
   "outputs": [
    {
     "data": {
      "image/png": "[encoded data removed]",
      "text/plain": [
       "<Figure size 432x288 with 1 Axes>"
      ]
     },
     "metadata": {
      "needs_background": "light"
     },
     "output_type": "display_data"
    }
   ],
   "source": [
    "cln_x_values = city_data_north['Cloudiness']\n",
    "cln_y_values = city_data_north['Lat']\n",
    "(slope, intercept, rvalue, pvalue, stderr) = linregress(cln_x_values, cln_y_values)\n",
    "regress_values = cln_x_values * slope + intercept\n",
    "line_eq = \"y = \" + str(round(slope,2)) + \"x + \" + str(round(intercept,2))\n",
    "plt.scatter(cln_x_values,cln_y_values)\n",
    "plt.plot(cln_x_values,regress_values,\"r-\")\n",
    "plt.annotate(line_eq,(5.8,0.8),fontsize=15,color=\"red\")\n",
    "plt.xlabel('Northern Hemisphere - Cloudiness ')\n",
    "plt.ylabel('Northern Hemisphere - Latitude  ')\n",
    "plt.show()"
   ]
  },
  {
   "cell_type": "markdown",
   "metadata": {},
   "source": [
    "####  Southern Hemisphere - Cloudiness (%) vs. Latitude Linear Regression"
   ]
  },
  {
   "cell_type": "code",
   "execution_count": 25,
   "metadata": {},
   "outputs": [
    {
     "data": {
      "image/png": "[encoded data removed]",
      "text/plain": [
       "<Figure size 432x288 with 1 Axes>"
      ]
     },
     "metadata": {
      "needs_background": "light"
     },
     "output_type": "display_data"
    }
   ],
   "source": [
    "sln_x_values = city_data_south['Cloudiness']\n",
    "sln_y_values = city_data_south['Lat']\n",
    "(slope, intercept, rvalue, pvalue, stderr) = linregress(sln_x_values, sln_y_values)\n",
    "regress_values = sln_x_values * slope + intercept\n",
    "line_eq = \"y = \" + str(round(slope,2)) + \"x + \" + str(round(intercept,2))\n",
    "plt.scatter(sln_x_values, sln_y_values)\n",
    "plt.plot(sln_x_values, regress_values,\"r-\")\n",
    "plt.annotate(line_eq,(5.8,0.8),fontsize=15,color=\"red\")\n",
    "plt.xlabel('Southern Hemisphere - Cloudiness ')\n",
    "plt.ylabel('Southern Hemisphere - Latitude  ')\n",
    "plt.show()"
   ]
  },
  {
   "cell_type": "markdown",
   "metadata": {},
   "source": [
    "####  Northern Hemisphere - Wind Speed (mph) vs. Latitude Linear Regression"
   ]
  },
  {
   "cell_type": "code",
   "execution_count": 26,
   "metadata": {},
   "outputs": [
    {
     "data": {
      "image/png": "[encoded data removed]",
      "text/plain": [
       "<Figure size 432x288 with 1 Axes>"
      ]
     },
     "metadata": {
      "needs_background": "light"
     },
     "output_type": "display_data"
    }
   ],
   "source": [
    "wln_x_values = city_data_north['Wind Speed']\n",
    "wln_y_values = city_data_north['Lat']\n",
    "(slope, intercept, rvalue, pvalue, stderr) = linregress(wln_x_values, wln_y_values)\n",
    "regress_values = wln_x_values * slope + intercept\n",
    "line_eq = \"y = \" + str(round(slope,2)) + \"x + \" + str(round(intercept,2))\n",
    "plt.scatter(wln_x_values, wln_y_values)\n",
    "plt.plot(wln_x_values,regress_values,\"r-\")\n",
    "plt.annotate(line_eq,(5.8,0.8),fontsize=15,color=\"red\")\n",
    "plt.xlabel('Northern Hemisphere - Wind Speed ')\n",
    "plt.ylabel('Northern Hemisphere - Latitude  ')\n",
    "plt.show()"
   ]
  },
  {
   "cell_type": "markdown",
   "metadata": {},
   "source": [
    "####  Southern Hemisphere - Wind Speed (mph) vs. Latitude Linear Regression"
   ]
  },
  {
   "cell_type": "code",
   "execution_count": 27,
   "metadata": {},
   "outputs": [
    {
     "data": {
      "image/png": "[encoded data removed]",
      "text/plain": [
       "<Figure size 432x288 with 1 Axes>"
      ]
     },
     "metadata": {
      "needs_background": "light"
     },
     "output_type": "display_data"
    }
   ],
   "source": [
    "wls_x_values = city_data_south['Wind Speed']\n",
    "wls_y_values = city_data_south['Lat']\n",
    "(slope, intercept, rvalue, pvalue, stderr) = linregress(wls_x_values, wls_y_values)\n",
    "regress_values = wls_x_values * slope + intercept\n",
    "line_eq = \"y = \" + str(round(slope,2)) + \"x + \" + str(round(intercept,2))\n",
    "plt.scatter(wls_x_values, wls_y_values)\n",
    "plt.plot(wls_x_values,regress_values,\"r-\")\n",
    "plt.annotate(line_eq,(5.8,0.8),fontsize=15,color=\"red\")\n",
    "plt.xlabel('Southern Hemisphere - Wind Speed ')\n",
    "plt.ylabel('Southern Hemisphere - Latitude  ')\n",
    "plt.show()"
   ]
  }
 ],
 "metadata": {
  "anaconda-cloud": {},
  "kernel_info": {
   "name": "python3"
  },
  "kernelspec": {
   "display_name": "Python 3 (ipykernel)",
   "language": "python",
   "name": "python3"
  },
  "language_info": {
   "codemirror_mode": {
    "name": "ipython",
    "version": 3
   },
   "file_extension": ".py",
   "mimetype": "text/x-python",
   "name": "python",
   "nbconvert_exporter": "python",
   "pygments_lexer": "ipython3",
   "version": "3.9.7"
  },
  "latex_envs": {
   "LaTeX_envs_menu_present": true,
   "autoclose": false,
   "autocomplete": true,
   "bibliofile": "biblio.bib",
   "cite_by": "apalike",
   "current_citInitial": 1,
   "eqLabelWithNumbers": true,
   "eqNumInitial": 1,
   "hotkeys": {
    "equation": "Ctrl-E",
    "itemize": "Ctrl-I"
   },
   "labels_anchors": false,
   "latex_user_defs": false,
   "report_style_numbering": false,
   "user_envs_cfg": false
  },
  "nteract": {
   "version": "0.12.3"
  }
 },
 "nbformat": 4,
 "nbformat_minor": 2
}
